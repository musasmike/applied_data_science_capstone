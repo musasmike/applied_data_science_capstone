{
 "cells": [
  {
   "cell_type": "markdown",
   "source": [
    "## Project Findings Notes"
   ],
   "metadata": {
    "collapsed": false
   },
   "id": "1fc9f4b5007e1c9d"
  },
  {
   "cell_type": "markdown",
   "source": [
    "EDA Findings\n",
    "* The landing success rate that SpaceX experienced, which was 66.67%, is the double of its failure (33.33%). (bar chart percentage)\n",
    "* We saw that as the years go on, the number of success increases and number of failures decreases. This might be because of experience and lessons learned during the previous launch projects. (line plot of both successes and failures overtime)\n",
    "* We also see that different launch sites have different success rates. CCAFS SLC-40, has a success rate of 60%, while KSC LC-39A and WAFB SLC 4E has a success rate of 77%. (We should make a bar chart to show this)\n",
    "* As the number of flights increases for the CCAFS SLC-40 launch site, the number of successful landings increases as well. This goes for the other launch sites. We can observe a decrease in the number of failed landings.\n",
    "* There is no much different in Payload mass for CCAFS SLC-40 launch site. However, we observe that three of launches with the highest payload were successful. (scatter plot between “Payload Mass” and “Launch Site” by Class)\n",
    "* Goes in the same bucket as the above bullet point. If you observe Payload vs. Launch Site scatter point chart you will find for the VAFB-SLC launch site there are no rockets launched for heavy payload mass (greater than 10,000).\n",
    "* We observed that the majority of low earth orbits, such as ISS, VLEO, PO, LEO, and SSO, tend to have experienced a significant amount of successes. However, most of the company missions were targeting low earth orbits. GTO, which is a high earth orbit, had more space missions than GEO. But GTO only had 51.85% landing success rate. (bar chart of “Orbit” counts by Class)\n",
    "* You should see that in the LEO orbit the success appears related to the number of flights; on the other hand, there seems to be no relationship between flight number when in GTO orbit. (scatter plot between “Flight Number” and “Orbit” by Class)\n",
    "* KSC LC-39A is the site that has the largest successful launches, which is 41.2% (meaning 41.2% of the total successful missions that were launched on this site, the first stage landed successfully). (pie chart from the dashboard)\n",
    "* KSC LC-39A was also the site with the highest launch success rate of 76.9% versus 23.1% of failed launches. (pie chart from the dashboard)\n",
    "* The payload range with the highest number of successful launches is between 0 and 10,000 kg, with a total of 24 missions. The range with the highest success rate is between 3,000 and 4,000 kg, which is 72.73% with a total of 8 successful launches, and just 3 failed ones. (pie chart from the dashboard)\n",
    "* The payload range with the lowest number of successful launches are (6,000 - 7,000), (6,000 - 8,000), and (6,000 - 9,000) with both having 0 success and 4 failures. They all have 0% success rate.\n",
    "* The Booster Version Category with the highest success rate is B5, with 100% success rate. However, there was only 1 mission where this one was used. Therefore, we decided to drop it and consider the remaining ones. So the highest Booster Version Category with the highest success rate is FT, with 66.67% success rate. (from the dashboard)"
   ],
   "metadata": {
    "collapsed": false
   },
   "id": "f715d97ba671e7ec"
  },
  {
   "cell_type": "code",
   "execution_count": 1,
   "id": "initial_id",
   "metadata": {
    "collapsed": true,
    "ExecuteTime": {
     "end_time": "2023-08-30T08:27:06.748104Z",
     "start_time": "2023-08-30T08:27:06.708183Z"
    }
   },
   "outputs": [],
   "source": [
    "import pandas as pd\n",
    "import numpy as np\n",
    "import plotly.graph_objects as go\n",
    "import plotly.express as px"
   ]
  },
  {
   "cell_type": "code",
   "execution_count": 2,
   "outputs": [
    {
     "data": {
      "text/plain": "   Unnamed: 0  Flight Number  Launch Site  class  Payload Mass (kg)  \\\n0           0              1  CCAFS LC-40      0                0.0   \n1           1              2  CCAFS LC-40      0                0.0   \n\n  Booster Version Booster Version Category  \n0  F9 v1.0  B0003                     v1.0  \n1  F9 v1.0  B0004                     v1.0  ",
      "text/html": "<div>\n<style scoped>\n    .dataframe tbody tr th:only-of-type {\n        vertical-align: middle;\n    }\n\n    .dataframe tbody tr th {\n        vertical-align: top;\n    }\n\n    .dataframe thead th {\n        text-align: right;\n    }\n</style>\n<table border=\"1\" class=\"dataframe\">\n  <thead>\n    <tr style=\"text-align: right;\">\n      <th></th>\n      <th>Unnamed: 0</th>\n      <th>Flight Number</th>\n      <th>Launch Site</th>\n      <th>class</th>\n      <th>Payload Mass (kg)</th>\n      <th>Booster Version</th>\n      <th>Booster Version Category</th>\n    </tr>\n  </thead>\n  <tbody>\n    <tr>\n      <th>0</th>\n      <td>0</td>\n      <td>1</td>\n      <td>CCAFS LC-40</td>\n      <td>0</td>\n      <td>0.0</td>\n      <td>F9 v1.0  B0003</td>\n      <td>v1.0</td>\n    </tr>\n    <tr>\n      <th>1</th>\n      <td>1</td>\n      <td>2</td>\n      <td>CCAFS LC-40</td>\n      <td>0</td>\n      <td>0.0</td>\n      <td>F9 v1.0  B0004</td>\n      <td>v1.0</td>\n    </tr>\n  </tbody>\n</table>\n</div>"
     },
     "execution_count": 2,
     "metadata": {},
     "output_type": "execute_result"
    }
   ],
   "source": [
    "spacex_df = pd.read_csv('data/spacex_launch_dash.csv')\n",
    "spacex_df.head(2)"
   ],
   "metadata": {
    "collapsed": false,
    "ExecuteTime": {
     "end_time": "2023-08-30T08:27:10.701445Z",
     "start_time": "2023-08-30T08:27:10.677716Z"
    }
   },
   "id": "3e72b23bdb86c09e"
  },
  {
   "cell_type": "code",
   "execution_count": 3,
   "outputs": [
    {
     "data": {
      "text/plain": "class\n0    0.730769\n1    0.269231\nName: proportion, dtype: float64"
     },
     "execution_count": 3,
     "metadata": {},
     "output_type": "execute_result"
    }
   ],
   "source": [
    "spacex_df.loc[spacex_df['Launch Site'] == 'CCAFS LC-40', 'class'].value_counts(normalize=True)"
   ],
   "metadata": {
    "collapsed": false,
    "ExecuteTime": {
     "end_time": "2023-08-30T08:27:18.239382Z",
     "start_time": "2023-08-30T08:27:18.230907Z"
    }
   },
   "id": "37c78667b4dfbb20"
  },
  {
   "cell_type": "code",
   "execution_count": 4,
   "outputs": [
    {
     "data": {
      "text/plain": "   class  proportion\n0      0    0.230769\n1      1    0.769231",
      "text/html": "<div>\n<style scoped>\n    .dataframe tbody tr th:only-of-type {\n        vertical-align: middle;\n    }\n\n    .dataframe tbody tr th {\n        vertical-align: top;\n    }\n\n    .dataframe thead th {\n        text-align: right;\n    }\n</style>\n<table border=\"1\" class=\"dataframe\">\n  <thead>\n    <tr style=\"text-align: right;\">\n      <th></th>\n      <th>class</th>\n      <th>proportion</th>\n    </tr>\n  </thead>\n  <tbody>\n    <tr>\n      <th>0</th>\n      <td>0</td>\n      <td>0.230769</td>\n    </tr>\n    <tr>\n      <th>1</th>\n      <td>1</td>\n      <td>0.769231</td>\n    </tr>\n  </tbody>\n</table>\n</div>"
     },
     "execution_count": 4,
     "metadata": {},
     "output_type": "execute_result"
    }
   ],
   "source": [
    "spacex_df.loc[spacex_df['Launch Site'] == 'KSC LC-39A', 'class'].value_counts(normalize=True).sort_index().reset_index()"
   ],
   "metadata": {
    "collapsed": false,
    "ExecuteTime": {
     "end_time": "2023-08-30T08:27:24.758772Z",
     "start_time": "2023-08-30T08:27:24.749520Z"
    }
   },
   "id": "6ef653ee7d7fc461"
  },
  {
   "cell_type": "code",
   "execution_count": 12,
   "outputs": [
    {
     "data": {
      "application/vnd.plotly.v1+json": {
       "data": [
        {
         "hovertemplate": "Booster Version Category=v1.0<br>Payload Mass (kg)=%{x}<br>class=%{y}<extra></extra>",
         "legendgroup": "v1.0",
         "marker": {
          "color": "#636efa",
          "symbol": "circle",
          "size": 10
         },
         "mode": "markers",
         "name": "v1.0",
         "orientation": "v",
         "showlegend": true,
         "x": [
          0.0,
          0.0,
          525.0,
          500.0,
          677.0
         ],
         "xaxis": "x",
         "y": [
          0,
          0,
          0,
          0,
          0
         ],
         "yaxis": "y",
         "type": "scatter"
        },
        {
         "hovertemplate": "Booster Version Category=v1.1<br>Payload Mass (kg)=%{x}<br>class=%{y}<extra></extra>",
         "legendgroup": "v1.1",
         "marker": {
          "color": "#EF553B",
          "symbol": "circle",
          "size": 10
         },
         "mode": "markers",
         "name": "v1.1",
         "orientation": "v",
         "showlegend": true,
         "x": [
          3170.0,
          3325.0,
          2296.0,
          1316.0,
          4535.0,
          4428.0,
          2216.0,
          2395.0,
          570.0,
          4159.0,
          1898.0,
          4707.0,
          1952.0,
          500.0,
          553.0
         ],
         "xaxis": "x",
         "y": [
          0,
          0,
          0,
          0,
          0,
          0,
          0,
          0,
          0,
          0,
          0,
          0,
          1,
          0,
          0
         ],
         "yaxis": "y",
         "type": "scatter"
        },
        {
         "hovertemplate": "Booster Version Category=FT<br>Payload Mass (kg)=%{x}<br>class=%{y}<extra></extra>",
         "legendgroup": "FT",
         "marker": {
          "color": "#00cc96",
          "symbol": "circle",
          "size": 10
         },
         "mode": "markers",
         "name": "FT",
         "orientation": "v",
         "showlegend": true,
         "x": [
          2034.0,
          5271.0,
          3136.0,
          4696.0,
          3100.0,
          3600.0,
          2257.0,
          4600.0,
          9600.0,
          9600.0,
          475.0,
          9600.0,
          2150.0,
          2490.0,
          5600.0,
          5300.0,
          3696.65,
          6070.0,
          2708.0,
          3669.0,
          6761.0,
          5200.0,
          2205.0,
          4230.0
         ],
         "xaxis": "x",
         "y": [
          1,
          0,
          1,
          1,
          1,
          0,
          1,
          1,
          1,
          1,
          1,
          0,
          0,
          1,
          0,
          1,
          1,
          0,
          1,
          1,
          0,
          1,
          1,
          0
         ],
         "yaxis": "y",
         "type": "scatter"
        },
        {
         "hovertemplate": "Booster Version Category=B4<br>Payload Mass (kg)=%{x}<br>class=%{y}<extra></extra>",
         "legendgroup": "B4",
         "marker": {
          "color": "#ab63fa",
          "symbol": "circle",
          "size": 10
         },
         "mode": "markers",
         "name": "B4",
         "orientation": "v",
         "showlegend": true,
         "x": [
          9600.0,
          9600.0,
          6460.0,
          3310.0,
          4990.0,
          3500.0,
          3696.65,
          6092.0,
          2647.0,
          362.0,
          5384.0
         ],
         "xaxis": "x",
         "y": [
          1,
          0,
          0,
          1,
          1,
          1,
          1,
          0,
          0,
          1,
          0
         ],
         "yaxis": "y",
         "type": "scatter"
        },
        {
         "hovertemplate": "Booster Version Category=B5<br>Payload Mass (kg)=%{x}<br>class=%{y}<extra></extra>",
         "legendgroup": "B5",
         "marker": {
          "color": "#FFA15A",
          "symbol": "circle",
          "size": 10
         },
         "mode": "markers",
         "name": "B5",
         "orientation": "v",
         "showlegend": true,
         "x": [
          3600.0
         ],
         "xaxis": "x",
         "y": [
          1
         ],
         "yaxis": "y",
         "type": "scatter"
        }
       ],
       "layout": {
        "template": {
         "data": {
          "histogram2dcontour": [
           {
            "type": "histogram2dcontour",
            "colorbar": {
             "outlinewidth": 0,
             "ticks": ""
            },
            "colorscale": [
             [
              0.0,
              "#0d0887"
             ],
             [
              0.1111111111111111,
              "#46039f"
             ],
             [
              0.2222222222222222,
              "#7201a8"
             ],
             [
              0.3333333333333333,
              "#9c179e"
             ],
             [
              0.4444444444444444,
              "#bd3786"
             ],
             [
              0.5555555555555556,
              "#d8576b"
             ],
             [
              0.6666666666666666,
              "#ed7953"
             ],
             [
              0.7777777777777778,
              "#fb9f3a"
             ],
             [
              0.8888888888888888,
              "#fdca26"
             ],
             [
              1.0,
              "#f0f921"
             ]
            ]
           }
          ],
          "choropleth": [
           {
            "type": "choropleth",
            "colorbar": {
             "outlinewidth": 0,
             "ticks": ""
            }
           }
          ],
          "histogram2d": [
           {
            "type": "histogram2d",
            "colorbar": {
             "outlinewidth": 0,
             "ticks": ""
            },
            "colorscale": [
             [
              0.0,
              "#0d0887"
             ],
             [
              0.1111111111111111,
              "#46039f"
             ],
             [
              0.2222222222222222,
              "#7201a8"
             ],
             [
              0.3333333333333333,
              "#9c179e"
             ],
             [
              0.4444444444444444,
              "#bd3786"
             ],
             [
              0.5555555555555556,
              "#d8576b"
             ],
             [
              0.6666666666666666,
              "#ed7953"
             ],
             [
              0.7777777777777778,
              "#fb9f3a"
             ],
             [
              0.8888888888888888,
              "#fdca26"
             ],
             [
              1.0,
              "#f0f921"
             ]
            ]
           }
          ],
          "heatmap": [
           {
            "type": "heatmap",
            "colorbar": {
             "outlinewidth": 0,
             "ticks": ""
            },
            "colorscale": [
             [
              0.0,
              "#0d0887"
             ],
             [
              0.1111111111111111,
              "#46039f"
             ],
             [
              0.2222222222222222,
              "#7201a8"
             ],
             [
              0.3333333333333333,
              "#9c179e"
             ],
             [
              0.4444444444444444,
              "#bd3786"
             ],
             [
              0.5555555555555556,
              "#d8576b"
             ],
             [
              0.6666666666666666,
              "#ed7953"
             ],
             [
              0.7777777777777778,
              "#fb9f3a"
             ],
             [
              0.8888888888888888,
              "#fdca26"
             ],
             [
              1.0,
              "#f0f921"
             ]
            ]
           }
          ],
          "heatmapgl": [
           {
            "type": "heatmapgl",
            "colorbar": {
             "outlinewidth": 0,
             "ticks": ""
            },
            "colorscale": [
             [
              0.0,
              "#0d0887"
             ],
             [
              0.1111111111111111,
              "#46039f"
             ],
             [
              0.2222222222222222,
              "#7201a8"
             ],
             [
              0.3333333333333333,
              "#9c179e"
             ],
             [
              0.4444444444444444,
              "#bd3786"
             ],
             [
              0.5555555555555556,
              "#d8576b"
             ],
             [
              0.6666666666666666,
              "#ed7953"
             ],
             [
              0.7777777777777778,
              "#fb9f3a"
             ],
             [
              0.8888888888888888,
              "#fdca26"
             ],
             [
              1.0,
              "#f0f921"
             ]
            ]
           }
          ],
          "contourcarpet": [
           {
            "type": "contourcarpet",
            "colorbar": {
             "outlinewidth": 0,
             "ticks": ""
            }
           }
          ],
          "contour": [
           {
            "type": "contour",
            "colorbar": {
             "outlinewidth": 0,
             "ticks": ""
            },
            "colorscale": [
             [
              0.0,
              "#0d0887"
             ],
             [
              0.1111111111111111,
              "#46039f"
             ],
             [
              0.2222222222222222,
              "#7201a8"
             ],
             [
              0.3333333333333333,
              "#9c179e"
             ],
             [
              0.4444444444444444,
              "#bd3786"
             ],
             [
              0.5555555555555556,
              "#d8576b"
             ],
             [
              0.6666666666666666,
              "#ed7953"
             ],
             [
              0.7777777777777778,
              "#fb9f3a"
             ],
             [
              0.8888888888888888,
              "#fdca26"
             ],
             [
              1.0,
              "#f0f921"
             ]
            ]
           }
          ],
          "surface": [
           {
            "type": "surface",
            "colorbar": {
             "outlinewidth": 0,
             "ticks": ""
            },
            "colorscale": [
             [
              0.0,
              "#0d0887"
             ],
             [
              0.1111111111111111,
              "#46039f"
             ],
             [
              0.2222222222222222,
              "#7201a8"
             ],
             [
              0.3333333333333333,
              "#9c179e"
             ],
             [
              0.4444444444444444,
              "#bd3786"
             ],
             [
              0.5555555555555556,
              "#d8576b"
             ],
             [
              0.6666666666666666,
              "#ed7953"
             ],
             [
              0.7777777777777778,
              "#fb9f3a"
             ],
             [
              0.8888888888888888,
              "#fdca26"
             ],
             [
              1.0,
              "#f0f921"
             ]
            ]
           }
          ],
          "mesh3d": [
           {
            "type": "mesh3d",
            "colorbar": {
             "outlinewidth": 0,
             "ticks": ""
            }
           }
          ],
          "scatter": [
           {
            "fillpattern": {
             "fillmode": "overlay",
             "size": 10,
             "solidity": 0.2
            },
            "type": "scatter"
           }
          ],
          "parcoords": [
           {
            "type": "parcoords",
            "line": {
             "colorbar": {
              "outlinewidth": 0,
              "ticks": ""
             }
            }
           }
          ],
          "scatterpolargl": [
           {
            "type": "scatterpolargl",
            "marker": {
             "colorbar": {
              "outlinewidth": 0,
              "ticks": ""
             }
            }
           }
          ],
          "bar": [
           {
            "error_x": {
             "color": "#2a3f5f"
            },
            "error_y": {
             "color": "#2a3f5f"
            },
            "marker": {
             "line": {
              "color": "#E5ECF6",
              "width": 0.5
             },
             "pattern": {
              "fillmode": "overlay",
              "size": 10,
              "solidity": 0.2
             }
            },
            "type": "bar"
           }
          ],
          "scattergeo": [
           {
            "type": "scattergeo",
            "marker": {
             "colorbar": {
              "outlinewidth": 0,
              "ticks": ""
             }
            }
           }
          ],
          "scatterpolar": [
           {
            "type": "scatterpolar",
            "marker": {
             "colorbar": {
              "outlinewidth": 0,
              "ticks": ""
             }
            }
           }
          ],
          "histogram": [
           {
            "marker": {
             "pattern": {
              "fillmode": "overlay",
              "size": 10,
              "solidity": 0.2
             }
            },
            "type": "histogram"
           }
          ],
          "scattergl": [
           {
            "type": "scattergl",
            "marker": {
             "colorbar": {
              "outlinewidth": 0,
              "ticks": ""
             }
            }
           }
          ],
          "scatter3d": [
           {
            "type": "scatter3d",
            "line": {
             "colorbar": {
              "outlinewidth": 0,
              "ticks": ""
             }
            },
            "marker": {
             "colorbar": {
              "outlinewidth": 0,
              "ticks": ""
             }
            }
           }
          ],
          "scattermapbox": [
           {
            "type": "scattermapbox",
            "marker": {
             "colorbar": {
              "outlinewidth": 0,
              "ticks": ""
             }
            }
           }
          ],
          "scatterternary": [
           {
            "type": "scatterternary",
            "marker": {
             "colorbar": {
              "outlinewidth": 0,
              "ticks": ""
             }
            }
           }
          ],
          "scattercarpet": [
           {
            "type": "scattercarpet",
            "marker": {
             "colorbar": {
              "outlinewidth": 0,
              "ticks": ""
             }
            }
           }
          ],
          "carpet": [
           {
            "aaxis": {
             "endlinecolor": "#2a3f5f",
             "gridcolor": "white",
             "linecolor": "white",
             "minorgridcolor": "white",
             "startlinecolor": "#2a3f5f"
            },
            "baxis": {
             "endlinecolor": "#2a3f5f",
             "gridcolor": "white",
             "linecolor": "white",
             "minorgridcolor": "white",
             "startlinecolor": "#2a3f5f"
            },
            "type": "carpet"
           }
          ],
          "table": [
           {
            "cells": {
             "fill": {
              "color": "#EBF0F8"
             },
             "line": {
              "color": "white"
             }
            },
            "header": {
             "fill": {
              "color": "#C8D4E3"
             },
             "line": {
              "color": "white"
             }
            },
            "type": "table"
           }
          ],
          "barpolar": [
           {
            "marker": {
             "line": {
              "color": "#E5ECF6",
              "width": 0.5
             },
             "pattern": {
              "fillmode": "overlay",
              "size": 10,
              "solidity": 0.2
             }
            },
            "type": "barpolar"
           }
          ],
          "pie": [
           {
            "automargin": true,
            "type": "pie"
           }
          ]
         },
         "layout": {
          "autotypenumbers": "strict",
          "colorway": [
           "#636efa",
           "#EF553B",
           "#00cc96",
           "#ab63fa",
           "#FFA15A",
           "#19d3f3",
           "#FF6692",
           "#B6E880",
           "#FF97FF",
           "#FECB52"
          ],
          "font": {
           "color": "#2a3f5f"
          },
          "hovermode": "closest",
          "hoverlabel": {
           "align": "left"
          },
          "paper_bgcolor": "white",
          "plot_bgcolor": "#E5ECF6",
          "polar": {
           "bgcolor": "#E5ECF6",
           "angularaxis": {
            "gridcolor": "white",
            "linecolor": "white",
            "ticks": ""
           },
           "radialaxis": {
            "gridcolor": "white",
            "linecolor": "white",
            "ticks": ""
           }
          },
          "ternary": {
           "bgcolor": "#E5ECF6",
           "aaxis": {
            "gridcolor": "white",
            "linecolor": "white",
            "ticks": ""
           },
           "baxis": {
            "gridcolor": "white",
            "linecolor": "white",
            "ticks": ""
           },
           "caxis": {
            "gridcolor": "white",
            "linecolor": "white",
            "ticks": ""
           }
          },
          "coloraxis": {
           "colorbar": {
            "outlinewidth": 0,
            "ticks": ""
           }
          },
          "colorscale": {
           "sequential": [
            [
             0.0,
             "#0d0887"
            ],
            [
             0.1111111111111111,
             "#46039f"
            ],
            [
             0.2222222222222222,
             "#7201a8"
            ],
            [
             0.3333333333333333,
             "#9c179e"
            ],
            [
             0.4444444444444444,
             "#bd3786"
            ],
            [
             0.5555555555555556,
             "#d8576b"
            ],
            [
             0.6666666666666666,
             "#ed7953"
            ],
            [
             0.7777777777777778,
             "#fb9f3a"
            ],
            [
             0.8888888888888888,
             "#fdca26"
            ],
            [
             1.0,
             "#f0f921"
            ]
           ],
           "sequentialminus": [
            [
             0.0,
             "#0d0887"
            ],
            [
             0.1111111111111111,
             "#46039f"
            ],
            [
             0.2222222222222222,
             "#7201a8"
            ],
            [
             0.3333333333333333,
             "#9c179e"
            ],
            [
             0.4444444444444444,
             "#bd3786"
            ],
            [
             0.5555555555555556,
             "#d8576b"
            ],
            [
             0.6666666666666666,
             "#ed7953"
            ],
            [
             0.7777777777777778,
             "#fb9f3a"
            ],
            [
             0.8888888888888888,
             "#fdca26"
            ],
            [
             1.0,
             "#f0f921"
            ]
           ],
           "diverging": [
            [
             0,
             "#8e0152"
            ],
            [
             0.1,
             "#c51b7d"
            ],
            [
             0.2,
             "#de77ae"
            ],
            [
             0.3,
             "#f1b6da"
            ],
            [
             0.4,
             "#fde0ef"
            ],
            [
             0.5,
             "#f7f7f7"
            ],
            [
             0.6,
             "#e6f5d0"
            ],
            [
             0.7,
             "#b8e186"
            ],
            [
             0.8,
             "#7fbc41"
            ],
            [
             0.9,
             "#4d9221"
            ],
            [
             1,
             "#276419"
            ]
           ]
          },
          "xaxis": {
           "gridcolor": "white",
           "linecolor": "white",
           "ticks": "",
           "title": {
            "standoff": 15
           },
           "zerolinecolor": "white",
           "automargin": true,
           "zerolinewidth": 2
          },
          "yaxis": {
           "gridcolor": "white",
           "linecolor": "white",
           "ticks": "",
           "title": {
            "standoff": 15
           },
           "zerolinecolor": "white",
           "automargin": true,
           "zerolinewidth": 2
          },
          "scene": {
           "xaxis": {
            "backgroundcolor": "#E5ECF6",
            "gridcolor": "white",
            "linecolor": "white",
            "showbackground": true,
            "ticks": "",
            "zerolinecolor": "white",
            "gridwidth": 2
           },
           "yaxis": {
            "backgroundcolor": "#E5ECF6",
            "gridcolor": "white",
            "linecolor": "white",
            "showbackground": true,
            "ticks": "",
            "zerolinecolor": "white",
            "gridwidth": 2
           },
           "zaxis": {
            "backgroundcolor": "#E5ECF6",
            "gridcolor": "white",
            "linecolor": "white",
            "showbackground": true,
            "ticks": "",
            "zerolinecolor": "white",
            "gridwidth": 2
           }
          },
          "shapedefaults": {
           "line": {
            "color": "#2a3f5f"
           }
          },
          "annotationdefaults": {
           "arrowcolor": "#2a3f5f",
           "arrowhead": 0,
           "arrowwidth": 1
          },
          "geo": {
           "bgcolor": "white",
           "landcolor": "#E5ECF6",
           "subunitcolor": "white",
           "showland": true,
           "showlakes": true,
           "lakecolor": "white"
          },
          "title": {
           "x": 0.05
          },
          "mapbox": {
           "style": "light"
          }
         }
        },
        "xaxis": {
         "anchor": "y",
         "domain": [
          0.0,
          1.0
         ],
         "title": {
          "text": "Payload Mass (kg)"
         }
        },
        "yaxis": {
         "anchor": "x",
         "domain": [
          0.0,
          1.0
         ],
         "title": {
          "text": "class"
         }
        },
        "legend": {
         "title": {
          "text": "Booster Version Category"
         },
         "tracegroupgap": 0
        },
        "margin": {
         "t": 60
        }
       },
       "config": {
        "plotlyServerURL": "https://plot.ly"
       }
      },
      "text/html": "<div>                            <div id=\"b06580a3-ac0a-4708-8054-340112da7202\" class=\"plotly-graph-div\" style=\"height:525px; width:100%;\"></div>            <script type=\"text/javascript\">                require([\"plotly\"], function(Plotly) {                    window.PLOTLYENV=window.PLOTLYENV || {};                                    if (document.getElementById(\"b06580a3-ac0a-4708-8054-340112da7202\")) {                    Plotly.newPlot(                        \"b06580a3-ac0a-4708-8054-340112da7202\",                        [{\"hovertemplate\":\"Booster Version Category=v1.0\\u003cbr\\u003ePayload Mass (kg)=%{x}\\u003cbr\\u003eclass=%{y}\\u003cextra\\u003e\\u003c\\u002fextra\\u003e\",\"legendgroup\":\"v1.0\",\"marker\":{\"color\":\"#636efa\",\"symbol\":\"circle\",\"size\":10},\"mode\":\"markers\",\"name\":\"v1.0\",\"orientation\":\"v\",\"showlegend\":true,\"x\":[0.0,0.0,525.0,500.0,677.0],\"xaxis\":\"x\",\"y\":[0,0,0,0,0],\"yaxis\":\"y\",\"type\":\"scatter\"},{\"hovertemplate\":\"Booster Version Category=v1.1\\u003cbr\\u003ePayload Mass (kg)=%{x}\\u003cbr\\u003eclass=%{y}\\u003cextra\\u003e\\u003c\\u002fextra\\u003e\",\"legendgroup\":\"v1.1\",\"marker\":{\"color\":\"#EF553B\",\"symbol\":\"circle\",\"size\":10},\"mode\":\"markers\",\"name\":\"v1.1\",\"orientation\":\"v\",\"showlegend\":true,\"x\":[3170.0,3325.0,2296.0,1316.0,4535.0,4428.0,2216.0,2395.0,570.0,4159.0,1898.0,4707.0,1952.0,500.0,553.0],\"xaxis\":\"x\",\"y\":[0,0,0,0,0,0,0,0,0,0,0,0,1,0,0],\"yaxis\":\"y\",\"type\":\"scatter\"},{\"hovertemplate\":\"Booster Version Category=FT\\u003cbr\\u003ePayload Mass (kg)=%{x}\\u003cbr\\u003eclass=%{y}\\u003cextra\\u003e\\u003c\\u002fextra\\u003e\",\"legendgroup\":\"FT\",\"marker\":{\"color\":\"#00cc96\",\"symbol\":\"circle\",\"size\":10},\"mode\":\"markers\",\"name\":\"FT\",\"orientation\":\"v\",\"showlegend\":true,\"x\":[2034.0,5271.0,3136.0,4696.0,3100.0,3600.0,2257.0,4600.0,9600.0,9600.0,475.0,9600.0,2150.0,2490.0,5600.0,5300.0,3696.65,6070.0,2708.0,3669.0,6761.0,5200.0,2205.0,4230.0],\"xaxis\":\"x\",\"y\":[1,0,1,1,1,0,1,1,1,1,1,0,0,1,0,1,1,0,1,1,0,1,1,0],\"yaxis\":\"y\",\"type\":\"scatter\"},{\"hovertemplate\":\"Booster Version Category=B4\\u003cbr\\u003ePayload Mass (kg)=%{x}\\u003cbr\\u003eclass=%{y}\\u003cextra\\u003e\\u003c\\u002fextra\\u003e\",\"legendgroup\":\"B4\",\"marker\":{\"color\":\"#ab63fa\",\"symbol\":\"circle\",\"size\":10},\"mode\":\"markers\",\"name\":\"B4\",\"orientation\":\"v\",\"showlegend\":true,\"x\":[9600.0,9600.0,6460.0,3310.0,4990.0,3500.0,3696.65,6092.0,2647.0,362.0,5384.0],\"xaxis\":\"x\",\"y\":[1,0,0,1,1,1,1,0,0,1,0],\"yaxis\":\"y\",\"type\":\"scatter\"},{\"hovertemplate\":\"Booster Version Category=B5\\u003cbr\\u003ePayload Mass (kg)=%{x}\\u003cbr\\u003eclass=%{y}\\u003cextra\\u003e\\u003c\\u002fextra\\u003e\",\"legendgroup\":\"B5\",\"marker\":{\"color\":\"#FFA15A\",\"symbol\":\"circle\",\"size\":10},\"mode\":\"markers\",\"name\":\"B5\",\"orientation\":\"v\",\"showlegend\":true,\"x\":[3600.0],\"xaxis\":\"x\",\"y\":[1],\"yaxis\":\"y\",\"type\":\"scatter\"}],                        {\"template\":{\"data\":{\"histogram2dcontour\":[{\"type\":\"histogram2dcontour\",\"colorbar\":{\"outlinewidth\":0,\"ticks\":\"\"},\"colorscale\":[[0.0,\"#0d0887\"],[0.1111111111111111,\"#46039f\"],[0.2222222222222222,\"#7201a8\"],[0.3333333333333333,\"#9c179e\"],[0.4444444444444444,\"#bd3786\"],[0.5555555555555556,\"#d8576b\"],[0.6666666666666666,\"#ed7953\"],[0.7777777777777778,\"#fb9f3a\"],[0.8888888888888888,\"#fdca26\"],[1.0,\"#f0f921\"]]}],\"choropleth\":[{\"type\":\"choropleth\",\"colorbar\":{\"outlinewidth\":0,\"ticks\":\"\"}}],\"histogram2d\":[{\"type\":\"histogram2d\",\"colorbar\":{\"outlinewidth\":0,\"ticks\":\"\"},\"colorscale\":[[0.0,\"#0d0887\"],[0.1111111111111111,\"#46039f\"],[0.2222222222222222,\"#7201a8\"],[0.3333333333333333,\"#9c179e\"],[0.4444444444444444,\"#bd3786\"],[0.5555555555555556,\"#d8576b\"],[0.6666666666666666,\"#ed7953\"],[0.7777777777777778,\"#fb9f3a\"],[0.8888888888888888,\"#fdca26\"],[1.0,\"#f0f921\"]]}],\"heatmap\":[{\"type\":\"heatmap\",\"colorbar\":{\"outlinewidth\":0,\"ticks\":\"\"},\"colorscale\":[[0.0,\"#0d0887\"],[0.1111111111111111,\"#46039f\"],[0.2222222222222222,\"#7201a8\"],[0.3333333333333333,\"#9c179e\"],[0.4444444444444444,\"#bd3786\"],[0.5555555555555556,\"#d8576b\"],[0.6666666666666666,\"#ed7953\"],[0.7777777777777778,\"#fb9f3a\"],[0.8888888888888888,\"#fdca26\"],[1.0,\"#f0f921\"]]}],\"heatmapgl\":[{\"type\":\"heatmapgl\",\"colorbar\":{\"outlinewidth\":0,\"ticks\":\"\"},\"colorscale\":[[0.0,\"#0d0887\"],[0.1111111111111111,\"#46039f\"],[0.2222222222222222,\"#7201a8\"],[0.3333333333333333,\"#9c179e\"],[0.4444444444444444,\"#bd3786\"],[0.5555555555555556,\"#d8576b\"],[0.6666666666666666,\"#ed7953\"],[0.7777777777777778,\"#fb9f3a\"],[0.8888888888888888,\"#fdca26\"],[1.0,\"#f0f921\"]]}],\"contourcarpet\":[{\"type\":\"contourcarpet\",\"colorbar\":{\"outlinewidth\":0,\"ticks\":\"\"}}],\"contour\":[{\"type\":\"contour\",\"colorbar\":{\"outlinewidth\":0,\"ticks\":\"\"},\"colorscale\":[[0.0,\"#0d0887\"],[0.1111111111111111,\"#46039f\"],[0.2222222222222222,\"#7201a8\"],[0.3333333333333333,\"#9c179e\"],[0.4444444444444444,\"#bd3786\"],[0.5555555555555556,\"#d8576b\"],[0.6666666666666666,\"#ed7953\"],[0.7777777777777778,\"#fb9f3a\"],[0.8888888888888888,\"#fdca26\"],[1.0,\"#f0f921\"]]}],\"surface\":[{\"type\":\"surface\",\"colorbar\":{\"outlinewidth\":0,\"ticks\":\"\"},\"colorscale\":[[0.0,\"#0d0887\"],[0.1111111111111111,\"#46039f\"],[0.2222222222222222,\"#7201a8\"],[0.3333333333333333,\"#9c179e\"],[0.4444444444444444,\"#bd3786\"],[0.5555555555555556,\"#d8576b\"],[0.6666666666666666,\"#ed7953\"],[0.7777777777777778,\"#fb9f3a\"],[0.8888888888888888,\"#fdca26\"],[1.0,\"#f0f921\"]]}],\"mesh3d\":[{\"type\":\"mesh3d\",\"colorbar\":{\"outlinewidth\":0,\"ticks\":\"\"}}],\"scatter\":[{\"fillpattern\":{\"fillmode\":\"overlay\",\"size\":10,\"solidity\":0.2},\"type\":\"scatter\"}],\"parcoords\":[{\"type\":\"parcoords\",\"line\":{\"colorbar\":{\"outlinewidth\":0,\"ticks\":\"\"}}}],\"scatterpolargl\":[{\"type\":\"scatterpolargl\",\"marker\":{\"colorbar\":{\"outlinewidth\":0,\"ticks\":\"\"}}}],\"bar\":[{\"error_x\":{\"color\":\"#2a3f5f\"},\"error_y\":{\"color\":\"#2a3f5f\"},\"marker\":{\"line\":{\"color\":\"#E5ECF6\",\"width\":0.5},\"pattern\":{\"fillmode\":\"overlay\",\"size\":10,\"solidity\":0.2}},\"type\":\"bar\"}],\"scattergeo\":[{\"type\":\"scattergeo\",\"marker\":{\"colorbar\":{\"outlinewidth\":0,\"ticks\":\"\"}}}],\"scatterpolar\":[{\"type\":\"scatterpolar\",\"marker\":{\"colorbar\":{\"outlinewidth\":0,\"ticks\":\"\"}}}],\"histogram\":[{\"marker\":{\"pattern\":{\"fillmode\":\"overlay\",\"size\":10,\"solidity\":0.2}},\"type\":\"histogram\"}],\"scattergl\":[{\"type\":\"scattergl\",\"marker\":{\"colorbar\":{\"outlinewidth\":0,\"ticks\":\"\"}}}],\"scatter3d\":[{\"type\":\"scatter3d\",\"line\":{\"colorbar\":{\"outlinewidth\":0,\"ticks\":\"\"}},\"marker\":{\"colorbar\":{\"outlinewidth\":0,\"ticks\":\"\"}}}],\"scattermapbox\":[{\"type\":\"scattermapbox\",\"marker\":{\"colorbar\":{\"outlinewidth\":0,\"ticks\":\"\"}}}],\"scatterternary\":[{\"type\":\"scatterternary\",\"marker\":{\"colorbar\":{\"outlinewidth\":0,\"ticks\":\"\"}}}],\"scattercarpet\":[{\"type\":\"scattercarpet\",\"marker\":{\"colorbar\":{\"outlinewidth\":0,\"ticks\":\"\"}}}],\"carpet\":[{\"aaxis\":{\"endlinecolor\":\"#2a3f5f\",\"gridcolor\":\"white\",\"linecolor\":\"white\",\"minorgridcolor\":\"white\",\"startlinecolor\":\"#2a3f5f\"},\"baxis\":{\"endlinecolor\":\"#2a3f5f\",\"gridcolor\":\"white\",\"linecolor\":\"white\",\"minorgridcolor\":\"white\",\"startlinecolor\":\"#2a3f5f\"},\"type\":\"carpet\"}],\"table\":[{\"cells\":{\"fill\":{\"color\":\"#EBF0F8\"},\"line\":{\"color\":\"white\"}},\"header\":{\"fill\":{\"color\":\"#C8D4E3\"},\"line\":{\"color\":\"white\"}},\"type\":\"table\"}],\"barpolar\":[{\"marker\":{\"line\":{\"color\":\"#E5ECF6\",\"width\":0.5},\"pattern\":{\"fillmode\":\"overlay\",\"size\":10,\"solidity\":0.2}},\"type\":\"barpolar\"}],\"pie\":[{\"automargin\":true,\"type\":\"pie\"}]},\"layout\":{\"autotypenumbers\":\"strict\",\"colorway\":[\"#636efa\",\"#EF553B\",\"#00cc96\",\"#ab63fa\",\"#FFA15A\",\"#19d3f3\",\"#FF6692\",\"#B6E880\",\"#FF97FF\",\"#FECB52\"],\"font\":{\"color\":\"#2a3f5f\"},\"hovermode\":\"closest\",\"hoverlabel\":{\"align\":\"left\"},\"paper_bgcolor\":\"white\",\"plot_bgcolor\":\"#E5ECF6\",\"polar\":{\"bgcolor\":\"#E5ECF6\",\"angularaxis\":{\"gridcolor\":\"white\",\"linecolor\":\"white\",\"ticks\":\"\"},\"radialaxis\":{\"gridcolor\":\"white\",\"linecolor\":\"white\",\"ticks\":\"\"}},\"ternary\":{\"bgcolor\":\"#E5ECF6\",\"aaxis\":{\"gridcolor\":\"white\",\"linecolor\":\"white\",\"ticks\":\"\"},\"baxis\":{\"gridcolor\":\"white\",\"linecolor\":\"white\",\"ticks\":\"\"},\"caxis\":{\"gridcolor\":\"white\",\"linecolor\":\"white\",\"ticks\":\"\"}},\"coloraxis\":{\"colorbar\":{\"outlinewidth\":0,\"ticks\":\"\"}},\"colorscale\":{\"sequential\":[[0.0,\"#0d0887\"],[0.1111111111111111,\"#46039f\"],[0.2222222222222222,\"#7201a8\"],[0.3333333333333333,\"#9c179e\"],[0.4444444444444444,\"#bd3786\"],[0.5555555555555556,\"#d8576b\"],[0.6666666666666666,\"#ed7953\"],[0.7777777777777778,\"#fb9f3a\"],[0.8888888888888888,\"#fdca26\"],[1.0,\"#f0f921\"]],\"sequentialminus\":[[0.0,\"#0d0887\"],[0.1111111111111111,\"#46039f\"],[0.2222222222222222,\"#7201a8\"],[0.3333333333333333,\"#9c179e\"],[0.4444444444444444,\"#bd3786\"],[0.5555555555555556,\"#d8576b\"],[0.6666666666666666,\"#ed7953\"],[0.7777777777777778,\"#fb9f3a\"],[0.8888888888888888,\"#fdca26\"],[1.0,\"#f0f921\"]],\"diverging\":[[0,\"#8e0152\"],[0.1,\"#c51b7d\"],[0.2,\"#de77ae\"],[0.3,\"#f1b6da\"],[0.4,\"#fde0ef\"],[0.5,\"#f7f7f7\"],[0.6,\"#e6f5d0\"],[0.7,\"#b8e186\"],[0.8,\"#7fbc41\"],[0.9,\"#4d9221\"],[1,\"#276419\"]]},\"xaxis\":{\"gridcolor\":\"white\",\"linecolor\":\"white\",\"ticks\":\"\",\"title\":{\"standoff\":15},\"zerolinecolor\":\"white\",\"automargin\":true,\"zerolinewidth\":2},\"yaxis\":{\"gridcolor\":\"white\",\"linecolor\":\"white\",\"ticks\":\"\",\"title\":{\"standoff\":15},\"zerolinecolor\":\"white\",\"automargin\":true,\"zerolinewidth\":2},\"scene\":{\"xaxis\":{\"backgroundcolor\":\"#E5ECF6\",\"gridcolor\":\"white\",\"linecolor\":\"white\",\"showbackground\":true,\"ticks\":\"\",\"zerolinecolor\":\"white\",\"gridwidth\":2},\"yaxis\":{\"backgroundcolor\":\"#E5ECF6\",\"gridcolor\":\"white\",\"linecolor\":\"white\",\"showbackground\":true,\"ticks\":\"\",\"zerolinecolor\":\"white\",\"gridwidth\":2},\"zaxis\":{\"backgroundcolor\":\"#E5ECF6\",\"gridcolor\":\"white\",\"linecolor\":\"white\",\"showbackground\":true,\"ticks\":\"\",\"zerolinecolor\":\"white\",\"gridwidth\":2}},\"shapedefaults\":{\"line\":{\"color\":\"#2a3f5f\"}},\"annotationdefaults\":{\"arrowcolor\":\"#2a3f5f\",\"arrowhead\":0,\"arrowwidth\":1},\"geo\":{\"bgcolor\":\"white\",\"landcolor\":\"#E5ECF6\",\"subunitcolor\":\"white\",\"showland\":true,\"showlakes\":true,\"lakecolor\":\"white\"},\"title\":{\"x\":0.05},\"mapbox\":{\"style\":\"light\"}}},\"xaxis\":{\"anchor\":\"y\",\"domain\":[0.0,1.0],\"title\":{\"text\":\"Payload Mass (kg)\"}},\"yaxis\":{\"anchor\":\"x\",\"domain\":[0.0,1.0],\"title\":{\"text\":\"class\"}},\"legend\":{\"title\":{\"text\":\"Booster Version Category\"},\"tracegroupgap\":0},\"margin\":{\"t\":60}},                        {\"responsive\": true}                    ).then(function(){\n                            \nvar gd = document.getElementById('b06580a3-ac0a-4708-8054-340112da7202');\nvar x = new MutationObserver(function (mutations, observer) {{\n        var display = window.getComputedStyle(gd).display;\n        if (!display || display === 'none') {{\n            console.log([gd, 'removed!']);\n            Plotly.purge(gd);\n            observer.disconnect();\n        }}\n}});\n\n// Listen for the removal of the full notebook cells\nvar notebookContainer = gd.closest('#notebook-container');\nif (notebookContainer) {{\n    x.observe(notebookContainer, {childList: true});\n}}\n\n// Listen for the clearing of the current output cell\nvar outputEl = gd.closest('.output');\nif (outputEl) {{\n    x.observe(outputEl, {childList: true});\n}}\n\n                        })                };                });            </script>        </div>"
     },
     "metadata": {},
     "output_type": "display_data"
    }
   ],
   "source": [
    "fig = px.scatter(spacex_df, x='Payload Mass (kg)', y='class',\n",
    "                 color='Booster Version Category'\n",
    "                 )\n",
    "fig.update_traces(marker_size=10)\n",
    "fig.show()"
   ],
   "metadata": {
    "collapsed": false,
    "ExecuteTime": {
     "end_time": "2023-08-21T02:39:13.577932600Z",
     "start_time": "2023-08-21T02:39:13.502089500Z"
    }
   },
   "id": "8ddfbf143a3fc389"
  },
  {
   "cell_type": "code",
   "execution_count": 13,
   "outputs": [
    {
     "data": {
      "text/plain": "   Unnamed: 0  Flight Number  Launch Site  class  Payload Mass (kg)  \\\n0           0              1  CCAFS LC-40      0                0.0   \n1           1              2  CCAFS LC-40      0                0.0   \n2           2              3  CCAFS LC-40      0              525.0   \n3           3              4  CCAFS LC-40      0              500.0   \n4           4              5  CCAFS LC-40      0              677.0   \n\n  Booster Version Booster Version Category  \n0  F9 v1.0  B0003                     v1.0  \n1  F9 v1.0  B0004                     v1.0  \n2  F9 v1.0  B0005                     v1.0  \n3  F9 v1.0  B0006                     v1.0  \n4  F9 v1.0  B0007                     v1.0  ",
      "text/html": "<div>\n<style scoped>\n    .dataframe tbody tr th:only-of-type {\n        vertical-align: middle;\n    }\n\n    .dataframe tbody tr th {\n        vertical-align: top;\n    }\n\n    .dataframe thead th {\n        text-align: right;\n    }\n</style>\n<table border=\"1\" class=\"dataframe\">\n  <thead>\n    <tr style=\"text-align: right;\">\n      <th></th>\n      <th>Unnamed: 0</th>\n      <th>Flight Number</th>\n      <th>Launch Site</th>\n      <th>class</th>\n      <th>Payload Mass (kg)</th>\n      <th>Booster Version</th>\n      <th>Booster Version Category</th>\n    </tr>\n  </thead>\n  <tbody>\n    <tr>\n      <th>0</th>\n      <td>0</td>\n      <td>1</td>\n      <td>CCAFS LC-40</td>\n      <td>0</td>\n      <td>0.0</td>\n      <td>F9 v1.0  B0003</td>\n      <td>v1.0</td>\n    </tr>\n    <tr>\n      <th>1</th>\n      <td>1</td>\n      <td>2</td>\n      <td>CCAFS LC-40</td>\n      <td>0</td>\n      <td>0.0</td>\n      <td>F9 v1.0  B0004</td>\n      <td>v1.0</td>\n    </tr>\n    <tr>\n      <th>2</th>\n      <td>2</td>\n      <td>3</td>\n      <td>CCAFS LC-40</td>\n      <td>0</td>\n      <td>525.0</td>\n      <td>F9 v1.0  B0005</td>\n      <td>v1.0</td>\n    </tr>\n    <tr>\n      <th>3</th>\n      <td>3</td>\n      <td>4</td>\n      <td>CCAFS LC-40</td>\n      <td>0</td>\n      <td>500.0</td>\n      <td>F9 v1.0  B0006</td>\n      <td>v1.0</td>\n    </tr>\n    <tr>\n      <th>4</th>\n      <td>4</td>\n      <td>5</td>\n      <td>CCAFS LC-40</td>\n      <td>0</td>\n      <td>677.0</td>\n      <td>F9 v1.0  B0007</td>\n      <td>v1.0</td>\n    </tr>\n  </tbody>\n</table>\n</div>"
     },
     "execution_count": 13,
     "metadata": {},
     "output_type": "execute_result"
    }
   ],
   "source": [
    "filtered = spacex_df.loc[spacex_df['Launch Site'] == 'CCAFS LC-40']\n",
    "filtered.head()"
   ],
   "metadata": {
    "collapsed": false,
    "ExecuteTime": {
     "end_time": "2023-08-21T02:58:40.204259700Z",
     "start_time": "2023-08-21T02:58:40.017461900Z"
    }
   },
   "id": "b31815559367e489"
  },
  {
   "cell_type": "code",
   "execution_count": 14,
   "outputs": [
    {
     "data": {
      "application/vnd.plotly.v1+json": {
       "data": [
        {
         "hovertemplate": "Booster Version Category=v1.0<br>Payload Mass (kg)=%{x}<br>class=%{y}<extra></extra>",
         "legendgroup": "v1.0",
         "marker": {
          "color": "#636efa",
          "symbol": "circle",
          "size": 10
         },
         "mode": "markers",
         "name": "v1.0",
         "orientation": "v",
         "showlegend": true,
         "x": [
          0.0,
          0.0,
          525.0,
          500.0,
          677.0
         ],
         "xaxis": "x",
         "y": [
          0,
          0,
          0,
          0,
          0
         ],
         "yaxis": "y",
         "type": "scatter"
        },
        {
         "hovertemplate": "Booster Version Category=v1.1<br>Payload Mass (kg)=%{x}<br>class=%{y}<extra></extra>",
         "legendgroup": "v1.1",
         "marker": {
          "color": "#EF553B",
          "symbol": "circle",
          "size": 10
         },
         "mode": "markers",
         "name": "v1.1",
         "orientation": "v",
         "showlegend": true,
         "x": [
          3170.0,
          3325.0,
          2296.0,
          1316.0,
          4535.0,
          4428.0,
          2216.0,
          2395.0,
          570.0,
          4159.0,
          1898.0,
          4707.0,
          1952.0
         ],
         "xaxis": "x",
         "y": [
          0,
          0,
          0,
          0,
          0,
          0,
          0,
          0,
          0,
          0,
          0,
          0,
          1
         ],
         "yaxis": "y",
         "type": "scatter"
        },
        {
         "hovertemplate": "Booster Version Category=FT<br>Payload Mass (kg)=%{x}<br>class=%{y}<extra></extra>",
         "legendgroup": "FT",
         "marker": {
          "color": "#00cc96",
          "symbol": "circle",
          "size": 10
         },
         "mode": "markers",
         "name": "FT",
         "orientation": "v",
         "showlegend": true,
         "x": [
          2034.0,
          5271.0,
          3136.0,
          4696.0,
          3100.0,
          3600.0,
          2257.0,
          4600.0
         ],
         "xaxis": "x",
         "y": [
          1,
          0,
          1,
          1,
          1,
          0,
          1,
          1
         ],
         "yaxis": "y",
         "type": "scatter"
        }
       ],
       "layout": {
        "template": {
         "data": {
          "histogram2dcontour": [
           {
            "type": "histogram2dcontour",
            "colorbar": {
             "outlinewidth": 0,
             "ticks": ""
            },
            "colorscale": [
             [
              0.0,
              "#0d0887"
             ],
             [
              0.1111111111111111,
              "#46039f"
             ],
             [
              0.2222222222222222,
              "#7201a8"
             ],
             [
              0.3333333333333333,
              "#9c179e"
             ],
             [
              0.4444444444444444,
              "#bd3786"
             ],
             [
              0.5555555555555556,
              "#d8576b"
             ],
             [
              0.6666666666666666,
              "#ed7953"
             ],
             [
              0.7777777777777778,
              "#fb9f3a"
             ],
             [
              0.8888888888888888,
              "#fdca26"
             ],
             [
              1.0,
              "#f0f921"
             ]
            ]
           }
          ],
          "choropleth": [
           {
            "type": "choropleth",
            "colorbar": {
             "outlinewidth": 0,
             "ticks": ""
            }
           }
          ],
          "histogram2d": [
           {
            "type": "histogram2d",
            "colorbar": {
             "outlinewidth": 0,
             "ticks": ""
            },
            "colorscale": [
             [
              0.0,
              "#0d0887"
             ],
             [
              0.1111111111111111,
              "#46039f"
             ],
             [
              0.2222222222222222,
              "#7201a8"
             ],
             [
              0.3333333333333333,
              "#9c179e"
             ],
             [
              0.4444444444444444,
              "#bd3786"
             ],
             [
              0.5555555555555556,
              "#d8576b"
             ],
             [
              0.6666666666666666,
              "#ed7953"
             ],
             [
              0.7777777777777778,
              "#fb9f3a"
             ],
             [
              0.8888888888888888,
              "#fdca26"
             ],
             [
              1.0,
              "#f0f921"
             ]
            ]
           }
          ],
          "heatmap": [
           {
            "type": "heatmap",
            "colorbar": {
             "outlinewidth": 0,
             "ticks": ""
            },
            "colorscale": [
             [
              0.0,
              "#0d0887"
             ],
             [
              0.1111111111111111,
              "#46039f"
             ],
             [
              0.2222222222222222,
              "#7201a8"
             ],
             [
              0.3333333333333333,
              "#9c179e"
             ],
             [
              0.4444444444444444,
              "#bd3786"
             ],
             [
              0.5555555555555556,
              "#d8576b"
             ],
             [
              0.6666666666666666,
              "#ed7953"
             ],
             [
              0.7777777777777778,
              "#fb9f3a"
             ],
             [
              0.8888888888888888,
              "#fdca26"
             ],
             [
              1.0,
              "#f0f921"
             ]
            ]
           }
          ],
          "heatmapgl": [
           {
            "type": "heatmapgl",
            "colorbar": {
             "outlinewidth": 0,
             "ticks": ""
            },
            "colorscale": [
             [
              0.0,
              "#0d0887"
             ],
             [
              0.1111111111111111,
              "#46039f"
             ],
             [
              0.2222222222222222,
              "#7201a8"
             ],
             [
              0.3333333333333333,
              "#9c179e"
             ],
             [
              0.4444444444444444,
              "#bd3786"
             ],
             [
              0.5555555555555556,
              "#d8576b"
             ],
             [
              0.6666666666666666,
              "#ed7953"
             ],
             [
              0.7777777777777778,
              "#fb9f3a"
             ],
             [
              0.8888888888888888,
              "#fdca26"
             ],
             [
              1.0,
              "#f0f921"
             ]
            ]
           }
          ],
          "contourcarpet": [
           {
            "type": "contourcarpet",
            "colorbar": {
             "outlinewidth": 0,
             "ticks": ""
            }
           }
          ],
          "contour": [
           {
            "type": "contour",
            "colorbar": {
             "outlinewidth": 0,
             "ticks": ""
            },
            "colorscale": [
             [
              0.0,
              "#0d0887"
             ],
             [
              0.1111111111111111,
              "#46039f"
             ],
             [
              0.2222222222222222,
              "#7201a8"
             ],
             [
              0.3333333333333333,
              "#9c179e"
             ],
             [
              0.4444444444444444,
              "#bd3786"
             ],
             [
              0.5555555555555556,
              "#d8576b"
             ],
             [
              0.6666666666666666,
              "#ed7953"
             ],
             [
              0.7777777777777778,
              "#fb9f3a"
             ],
             [
              0.8888888888888888,
              "#fdca26"
             ],
             [
              1.0,
              "#f0f921"
             ]
            ]
           }
          ],
          "surface": [
           {
            "type": "surface",
            "colorbar": {
             "outlinewidth": 0,
             "ticks": ""
            },
            "colorscale": [
             [
              0.0,
              "#0d0887"
             ],
             [
              0.1111111111111111,
              "#46039f"
             ],
             [
              0.2222222222222222,
              "#7201a8"
             ],
             [
              0.3333333333333333,
              "#9c179e"
             ],
             [
              0.4444444444444444,
              "#bd3786"
             ],
             [
              0.5555555555555556,
              "#d8576b"
             ],
             [
              0.6666666666666666,
              "#ed7953"
             ],
             [
              0.7777777777777778,
              "#fb9f3a"
             ],
             [
              0.8888888888888888,
              "#fdca26"
             ],
             [
              1.0,
              "#f0f921"
             ]
            ]
           }
          ],
          "mesh3d": [
           {
            "type": "mesh3d",
            "colorbar": {
             "outlinewidth": 0,
             "ticks": ""
            }
           }
          ],
          "scatter": [
           {
            "fillpattern": {
             "fillmode": "overlay",
             "size": 10,
             "solidity": 0.2
            },
            "type": "scatter"
           }
          ],
          "parcoords": [
           {
            "type": "parcoords",
            "line": {
             "colorbar": {
              "outlinewidth": 0,
              "ticks": ""
             }
            }
           }
          ],
          "scatterpolargl": [
           {
            "type": "scatterpolargl",
            "marker": {
             "colorbar": {
              "outlinewidth": 0,
              "ticks": ""
             }
            }
           }
          ],
          "bar": [
           {
            "error_x": {
             "color": "#2a3f5f"
            },
            "error_y": {
             "color": "#2a3f5f"
            },
            "marker": {
             "line": {
              "color": "#E5ECF6",
              "width": 0.5
             },
             "pattern": {
              "fillmode": "overlay",
              "size": 10,
              "solidity": 0.2
             }
            },
            "type": "bar"
           }
          ],
          "scattergeo": [
           {
            "type": "scattergeo",
            "marker": {
             "colorbar": {
              "outlinewidth": 0,
              "ticks": ""
             }
            }
           }
          ],
          "scatterpolar": [
           {
            "type": "scatterpolar",
            "marker": {
             "colorbar": {
              "outlinewidth": 0,
              "ticks": ""
             }
            }
           }
          ],
          "histogram": [
           {
            "marker": {
             "pattern": {
              "fillmode": "overlay",
              "size": 10,
              "solidity": 0.2
             }
            },
            "type": "histogram"
           }
          ],
          "scattergl": [
           {
            "type": "scattergl",
            "marker": {
             "colorbar": {
              "outlinewidth": 0,
              "ticks": ""
             }
            }
           }
          ],
          "scatter3d": [
           {
            "type": "scatter3d",
            "line": {
             "colorbar": {
              "outlinewidth": 0,
              "ticks": ""
             }
            },
            "marker": {
             "colorbar": {
              "outlinewidth": 0,
              "ticks": ""
             }
            }
           }
          ],
          "scattermapbox": [
           {
            "type": "scattermapbox",
            "marker": {
             "colorbar": {
              "outlinewidth": 0,
              "ticks": ""
             }
            }
           }
          ],
          "scatterternary": [
           {
            "type": "scatterternary",
            "marker": {
             "colorbar": {
              "outlinewidth": 0,
              "ticks": ""
             }
            }
           }
          ],
          "scattercarpet": [
           {
            "type": "scattercarpet",
            "marker": {
             "colorbar": {
              "outlinewidth": 0,
              "ticks": ""
             }
            }
           }
          ],
          "carpet": [
           {
            "aaxis": {
             "endlinecolor": "#2a3f5f",
             "gridcolor": "white",
             "linecolor": "white",
             "minorgridcolor": "white",
             "startlinecolor": "#2a3f5f"
            },
            "baxis": {
             "endlinecolor": "#2a3f5f",
             "gridcolor": "white",
             "linecolor": "white",
             "minorgridcolor": "white",
             "startlinecolor": "#2a3f5f"
            },
            "type": "carpet"
           }
          ],
          "table": [
           {
            "cells": {
             "fill": {
              "color": "#EBF0F8"
             },
             "line": {
              "color": "white"
             }
            },
            "header": {
             "fill": {
              "color": "#C8D4E3"
             },
             "line": {
              "color": "white"
             }
            },
            "type": "table"
           }
          ],
          "barpolar": [
           {
            "marker": {
             "line": {
              "color": "#E5ECF6",
              "width": 0.5
             },
             "pattern": {
              "fillmode": "overlay",
              "size": 10,
              "solidity": 0.2
             }
            },
            "type": "barpolar"
           }
          ],
          "pie": [
           {
            "automargin": true,
            "type": "pie"
           }
          ]
         },
         "layout": {
          "autotypenumbers": "strict",
          "colorway": [
           "#636efa",
           "#EF553B",
           "#00cc96",
           "#ab63fa",
           "#FFA15A",
           "#19d3f3",
           "#FF6692",
           "#B6E880",
           "#FF97FF",
           "#FECB52"
          ],
          "font": {
           "color": "#2a3f5f"
          },
          "hovermode": "closest",
          "hoverlabel": {
           "align": "left"
          },
          "paper_bgcolor": "white",
          "plot_bgcolor": "#E5ECF6",
          "polar": {
           "bgcolor": "#E5ECF6",
           "angularaxis": {
            "gridcolor": "white",
            "linecolor": "white",
            "ticks": ""
           },
           "radialaxis": {
            "gridcolor": "white",
            "linecolor": "white",
            "ticks": ""
           }
          },
          "ternary": {
           "bgcolor": "#E5ECF6",
           "aaxis": {
            "gridcolor": "white",
            "linecolor": "white",
            "ticks": ""
           },
           "baxis": {
            "gridcolor": "white",
            "linecolor": "white",
            "ticks": ""
           },
           "caxis": {
            "gridcolor": "white",
            "linecolor": "white",
            "ticks": ""
           }
          },
          "coloraxis": {
           "colorbar": {
            "outlinewidth": 0,
            "ticks": ""
           }
          },
          "colorscale": {
           "sequential": [
            [
             0.0,
             "#0d0887"
            ],
            [
             0.1111111111111111,
             "#46039f"
            ],
            [
             0.2222222222222222,
             "#7201a8"
            ],
            [
             0.3333333333333333,
             "#9c179e"
            ],
            [
             0.4444444444444444,
             "#bd3786"
            ],
            [
             0.5555555555555556,
             "#d8576b"
            ],
            [
             0.6666666666666666,
             "#ed7953"
            ],
            [
             0.7777777777777778,
             "#fb9f3a"
            ],
            [
             0.8888888888888888,
             "#fdca26"
            ],
            [
             1.0,
             "#f0f921"
            ]
           ],
           "sequentialminus": [
            [
             0.0,
             "#0d0887"
            ],
            [
             0.1111111111111111,
             "#46039f"
            ],
            [
             0.2222222222222222,
             "#7201a8"
            ],
            [
             0.3333333333333333,
             "#9c179e"
            ],
            [
             0.4444444444444444,
             "#bd3786"
            ],
            [
             0.5555555555555556,
             "#d8576b"
            ],
            [
             0.6666666666666666,
             "#ed7953"
            ],
            [
             0.7777777777777778,
             "#fb9f3a"
            ],
            [
             0.8888888888888888,
             "#fdca26"
            ],
            [
             1.0,
             "#f0f921"
            ]
           ],
           "diverging": [
            [
             0,
             "#8e0152"
            ],
            [
             0.1,
             "#c51b7d"
            ],
            [
             0.2,
             "#de77ae"
            ],
            [
             0.3,
             "#f1b6da"
            ],
            [
             0.4,
             "#fde0ef"
            ],
            [
             0.5,
             "#f7f7f7"
            ],
            [
             0.6,
             "#e6f5d0"
            ],
            [
             0.7,
             "#b8e186"
            ],
            [
             0.8,
             "#7fbc41"
            ],
            [
             0.9,
             "#4d9221"
            ],
            [
             1,
             "#276419"
            ]
           ]
          },
          "xaxis": {
           "gridcolor": "white",
           "linecolor": "white",
           "ticks": "",
           "title": {
            "standoff": 15
           },
           "zerolinecolor": "white",
           "automargin": true,
           "zerolinewidth": 2
          },
          "yaxis": {
           "gridcolor": "white",
           "linecolor": "white",
           "ticks": "",
           "title": {
            "standoff": 15
           },
           "zerolinecolor": "white",
           "automargin": true,
           "zerolinewidth": 2
          },
          "scene": {
           "xaxis": {
            "backgroundcolor": "#E5ECF6",
            "gridcolor": "white",
            "linecolor": "white",
            "showbackground": true,
            "ticks": "",
            "zerolinecolor": "white",
            "gridwidth": 2
           },
           "yaxis": {
            "backgroundcolor": "#E5ECF6",
            "gridcolor": "white",
            "linecolor": "white",
            "showbackground": true,
            "ticks": "",
            "zerolinecolor": "white",
            "gridwidth": 2
           },
           "zaxis": {
            "backgroundcolor": "#E5ECF6",
            "gridcolor": "white",
            "linecolor": "white",
            "showbackground": true,
            "ticks": "",
            "zerolinecolor": "white",
            "gridwidth": 2
           }
          },
          "shapedefaults": {
           "line": {
            "color": "#2a3f5f"
           }
          },
          "annotationdefaults": {
           "arrowcolor": "#2a3f5f",
           "arrowhead": 0,
           "arrowwidth": 1
          },
          "geo": {
           "bgcolor": "white",
           "landcolor": "#E5ECF6",
           "subunitcolor": "white",
           "showland": true,
           "showlakes": true,
           "lakecolor": "white"
          },
          "title": {
           "x": 0.05
          },
          "mapbox": {
           "style": "light"
          }
         }
        },
        "xaxis": {
         "anchor": "y",
         "domain": [
          0.0,
          1.0
         ],
         "title": {
          "text": "Payload Mass (kg)"
         }
        },
        "yaxis": {
         "anchor": "x",
         "domain": [
          0.0,
          1.0
         ],
         "title": {
          "text": "class"
         }
        },
        "legend": {
         "title": {
          "text": "Booster Version Category"
         },
         "tracegroupgap": 0
        },
        "margin": {
         "t": 60
        }
       },
       "config": {
        "plotlyServerURL": "https://plot.ly"
       }
      },
      "text/html": "<div>                            <div id=\"e118902d-f19c-427a-a051-c449c1addb45\" class=\"plotly-graph-div\" style=\"height:525px; width:100%;\"></div>            <script type=\"text/javascript\">                require([\"plotly\"], function(Plotly) {                    window.PLOTLYENV=window.PLOTLYENV || {};                                    if (document.getElementById(\"e118902d-f19c-427a-a051-c449c1addb45\")) {                    Plotly.newPlot(                        \"e118902d-f19c-427a-a051-c449c1addb45\",                        [{\"hovertemplate\":\"Booster Version Category=v1.0\\u003cbr\\u003ePayload Mass (kg)=%{x}\\u003cbr\\u003eclass=%{y}\\u003cextra\\u003e\\u003c\\u002fextra\\u003e\",\"legendgroup\":\"v1.0\",\"marker\":{\"color\":\"#636efa\",\"symbol\":\"circle\",\"size\":10},\"mode\":\"markers\",\"name\":\"v1.0\",\"orientation\":\"v\",\"showlegend\":true,\"x\":[0.0,0.0,525.0,500.0,677.0],\"xaxis\":\"x\",\"y\":[0,0,0,0,0],\"yaxis\":\"y\",\"type\":\"scatter\"},{\"hovertemplate\":\"Booster Version Category=v1.1\\u003cbr\\u003ePayload Mass (kg)=%{x}\\u003cbr\\u003eclass=%{y}\\u003cextra\\u003e\\u003c\\u002fextra\\u003e\",\"legendgroup\":\"v1.1\",\"marker\":{\"color\":\"#EF553B\",\"symbol\":\"circle\",\"size\":10},\"mode\":\"markers\",\"name\":\"v1.1\",\"orientation\":\"v\",\"showlegend\":true,\"x\":[3170.0,3325.0,2296.0,1316.0,4535.0,4428.0,2216.0,2395.0,570.0,4159.0,1898.0,4707.0,1952.0],\"xaxis\":\"x\",\"y\":[0,0,0,0,0,0,0,0,0,0,0,0,1],\"yaxis\":\"y\",\"type\":\"scatter\"},{\"hovertemplate\":\"Booster Version Category=FT\\u003cbr\\u003ePayload Mass (kg)=%{x}\\u003cbr\\u003eclass=%{y}\\u003cextra\\u003e\\u003c\\u002fextra\\u003e\",\"legendgroup\":\"FT\",\"marker\":{\"color\":\"#00cc96\",\"symbol\":\"circle\",\"size\":10},\"mode\":\"markers\",\"name\":\"FT\",\"orientation\":\"v\",\"showlegend\":true,\"x\":[2034.0,5271.0,3136.0,4696.0,3100.0,3600.0,2257.0,4600.0],\"xaxis\":\"x\",\"y\":[1,0,1,1,1,0,1,1],\"yaxis\":\"y\",\"type\":\"scatter\"}],                        {\"template\":{\"data\":{\"histogram2dcontour\":[{\"type\":\"histogram2dcontour\",\"colorbar\":{\"outlinewidth\":0,\"ticks\":\"\"},\"colorscale\":[[0.0,\"#0d0887\"],[0.1111111111111111,\"#46039f\"],[0.2222222222222222,\"#7201a8\"],[0.3333333333333333,\"#9c179e\"],[0.4444444444444444,\"#bd3786\"],[0.5555555555555556,\"#d8576b\"],[0.6666666666666666,\"#ed7953\"],[0.7777777777777778,\"#fb9f3a\"],[0.8888888888888888,\"#fdca26\"],[1.0,\"#f0f921\"]]}],\"choropleth\":[{\"type\":\"choropleth\",\"colorbar\":{\"outlinewidth\":0,\"ticks\":\"\"}}],\"histogram2d\":[{\"type\":\"histogram2d\",\"colorbar\":{\"outlinewidth\":0,\"ticks\":\"\"},\"colorscale\":[[0.0,\"#0d0887\"],[0.1111111111111111,\"#46039f\"],[0.2222222222222222,\"#7201a8\"],[0.3333333333333333,\"#9c179e\"],[0.4444444444444444,\"#bd3786\"],[0.5555555555555556,\"#d8576b\"],[0.6666666666666666,\"#ed7953\"],[0.7777777777777778,\"#fb9f3a\"],[0.8888888888888888,\"#fdca26\"],[1.0,\"#f0f921\"]]}],\"heatmap\":[{\"type\":\"heatmap\",\"colorbar\":{\"outlinewidth\":0,\"ticks\":\"\"},\"colorscale\":[[0.0,\"#0d0887\"],[0.1111111111111111,\"#46039f\"],[0.2222222222222222,\"#7201a8\"],[0.3333333333333333,\"#9c179e\"],[0.4444444444444444,\"#bd3786\"],[0.5555555555555556,\"#d8576b\"],[0.6666666666666666,\"#ed7953\"],[0.7777777777777778,\"#fb9f3a\"],[0.8888888888888888,\"#fdca26\"],[1.0,\"#f0f921\"]]}],\"heatmapgl\":[{\"type\":\"heatmapgl\",\"colorbar\":{\"outlinewidth\":0,\"ticks\":\"\"},\"colorscale\":[[0.0,\"#0d0887\"],[0.1111111111111111,\"#46039f\"],[0.2222222222222222,\"#7201a8\"],[0.3333333333333333,\"#9c179e\"],[0.4444444444444444,\"#bd3786\"],[0.5555555555555556,\"#d8576b\"],[0.6666666666666666,\"#ed7953\"],[0.7777777777777778,\"#fb9f3a\"],[0.8888888888888888,\"#fdca26\"],[1.0,\"#f0f921\"]]}],\"contourcarpet\":[{\"type\":\"contourcarpet\",\"colorbar\":{\"outlinewidth\":0,\"ticks\":\"\"}}],\"contour\":[{\"type\":\"contour\",\"colorbar\":{\"outlinewidth\":0,\"ticks\":\"\"},\"colorscale\":[[0.0,\"#0d0887\"],[0.1111111111111111,\"#46039f\"],[0.2222222222222222,\"#7201a8\"],[0.3333333333333333,\"#9c179e\"],[0.4444444444444444,\"#bd3786\"],[0.5555555555555556,\"#d8576b\"],[0.6666666666666666,\"#ed7953\"],[0.7777777777777778,\"#fb9f3a\"],[0.8888888888888888,\"#fdca26\"],[1.0,\"#f0f921\"]]}],\"surface\":[{\"type\":\"surface\",\"colorbar\":{\"outlinewidth\":0,\"ticks\":\"\"},\"colorscale\":[[0.0,\"#0d0887\"],[0.1111111111111111,\"#46039f\"],[0.2222222222222222,\"#7201a8\"],[0.3333333333333333,\"#9c179e\"],[0.4444444444444444,\"#bd3786\"],[0.5555555555555556,\"#d8576b\"],[0.6666666666666666,\"#ed7953\"],[0.7777777777777778,\"#fb9f3a\"],[0.8888888888888888,\"#fdca26\"],[1.0,\"#f0f921\"]]}],\"mesh3d\":[{\"type\":\"mesh3d\",\"colorbar\":{\"outlinewidth\":0,\"ticks\":\"\"}}],\"scatter\":[{\"fillpattern\":{\"fillmode\":\"overlay\",\"size\":10,\"solidity\":0.2},\"type\":\"scatter\"}],\"parcoords\":[{\"type\":\"parcoords\",\"line\":{\"colorbar\":{\"outlinewidth\":0,\"ticks\":\"\"}}}],\"scatterpolargl\":[{\"type\":\"scatterpolargl\",\"marker\":{\"colorbar\":{\"outlinewidth\":0,\"ticks\":\"\"}}}],\"bar\":[{\"error_x\":{\"color\":\"#2a3f5f\"},\"error_y\":{\"color\":\"#2a3f5f\"},\"marker\":{\"line\":{\"color\":\"#E5ECF6\",\"width\":0.5},\"pattern\":{\"fillmode\":\"overlay\",\"size\":10,\"solidity\":0.2}},\"type\":\"bar\"}],\"scattergeo\":[{\"type\":\"scattergeo\",\"marker\":{\"colorbar\":{\"outlinewidth\":0,\"ticks\":\"\"}}}],\"scatterpolar\":[{\"type\":\"scatterpolar\",\"marker\":{\"colorbar\":{\"outlinewidth\":0,\"ticks\":\"\"}}}],\"histogram\":[{\"marker\":{\"pattern\":{\"fillmode\":\"overlay\",\"size\":10,\"solidity\":0.2}},\"type\":\"histogram\"}],\"scattergl\":[{\"type\":\"scattergl\",\"marker\":{\"colorbar\":{\"outlinewidth\":0,\"ticks\":\"\"}}}],\"scatter3d\":[{\"type\":\"scatter3d\",\"line\":{\"colorbar\":{\"outlinewidth\":0,\"ticks\":\"\"}},\"marker\":{\"colorbar\":{\"outlinewidth\":0,\"ticks\":\"\"}}}],\"scattermapbox\":[{\"type\":\"scattermapbox\",\"marker\":{\"colorbar\":{\"outlinewidth\":0,\"ticks\":\"\"}}}],\"scatterternary\":[{\"type\":\"scatterternary\",\"marker\":{\"colorbar\":{\"outlinewidth\":0,\"ticks\":\"\"}}}],\"scattercarpet\":[{\"type\":\"scattercarpet\",\"marker\":{\"colorbar\":{\"outlinewidth\":0,\"ticks\":\"\"}}}],\"carpet\":[{\"aaxis\":{\"endlinecolor\":\"#2a3f5f\",\"gridcolor\":\"white\",\"linecolor\":\"white\",\"minorgridcolor\":\"white\",\"startlinecolor\":\"#2a3f5f\"},\"baxis\":{\"endlinecolor\":\"#2a3f5f\",\"gridcolor\":\"white\",\"linecolor\":\"white\",\"minorgridcolor\":\"white\",\"startlinecolor\":\"#2a3f5f\"},\"type\":\"carpet\"}],\"table\":[{\"cells\":{\"fill\":{\"color\":\"#EBF0F8\"},\"line\":{\"color\":\"white\"}},\"header\":{\"fill\":{\"color\":\"#C8D4E3\"},\"line\":{\"color\":\"white\"}},\"type\":\"table\"}],\"barpolar\":[{\"marker\":{\"line\":{\"color\":\"#E5ECF6\",\"width\":0.5},\"pattern\":{\"fillmode\":\"overlay\",\"size\":10,\"solidity\":0.2}},\"type\":\"barpolar\"}],\"pie\":[{\"automargin\":true,\"type\":\"pie\"}]},\"layout\":{\"autotypenumbers\":\"strict\",\"colorway\":[\"#636efa\",\"#EF553B\",\"#00cc96\",\"#ab63fa\",\"#FFA15A\",\"#19d3f3\",\"#FF6692\",\"#B6E880\",\"#FF97FF\",\"#FECB52\"],\"font\":{\"color\":\"#2a3f5f\"},\"hovermode\":\"closest\",\"hoverlabel\":{\"align\":\"left\"},\"paper_bgcolor\":\"white\",\"plot_bgcolor\":\"#E5ECF6\",\"polar\":{\"bgcolor\":\"#E5ECF6\",\"angularaxis\":{\"gridcolor\":\"white\",\"linecolor\":\"white\",\"ticks\":\"\"},\"radialaxis\":{\"gridcolor\":\"white\",\"linecolor\":\"white\",\"ticks\":\"\"}},\"ternary\":{\"bgcolor\":\"#E5ECF6\",\"aaxis\":{\"gridcolor\":\"white\",\"linecolor\":\"white\",\"ticks\":\"\"},\"baxis\":{\"gridcolor\":\"white\",\"linecolor\":\"white\",\"ticks\":\"\"},\"caxis\":{\"gridcolor\":\"white\",\"linecolor\":\"white\",\"ticks\":\"\"}},\"coloraxis\":{\"colorbar\":{\"outlinewidth\":0,\"ticks\":\"\"}},\"colorscale\":{\"sequential\":[[0.0,\"#0d0887\"],[0.1111111111111111,\"#46039f\"],[0.2222222222222222,\"#7201a8\"],[0.3333333333333333,\"#9c179e\"],[0.4444444444444444,\"#bd3786\"],[0.5555555555555556,\"#d8576b\"],[0.6666666666666666,\"#ed7953\"],[0.7777777777777778,\"#fb9f3a\"],[0.8888888888888888,\"#fdca26\"],[1.0,\"#f0f921\"]],\"sequentialminus\":[[0.0,\"#0d0887\"],[0.1111111111111111,\"#46039f\"],[0.2222222222222222,\"#7201a8\"],[0.3333333333333333,\"#9c179e\"],[0.4444444444444444,\"#bd3786\"],[0.5555555555555556,\"#d8576b\"],[0.6666666666666666,\"#ed7953\"],[0.7777777777777778,\"#fb9f3a\"],[0.8888888888888888,\"#fdca26\"],[1.0,\"#f0f921\"]],\"diverging\":[[0,\"#8e0152\"],[0.1,\"#c51b7d\"],[0.2,\"#de77ae\"],[0.3,\"#f1b6da\"],[0.4,\"#fde0ef\"],[0.5,\"#f7f7f7\"],[0.6,\"#e6f5d0\"],[0.7,\"#b8e186\"],[0.8,\"#7fbc41\"],[0.9,\"#4d9221\"],[1,\"#276419\"]]},\"xaxis\":{\"gridcolor\":\"white\",\"linecolor\":\"white\",\"ticks\":\"\",\"title\":{\"standoff\":15},\"zerolinecolor\":\"white\",\"automargin\":true,\"zerolinewidth\":2},\"yaxis\":{\"gridcolor\":\"white\",\"linecolor\":\"white\",\"ticks\":\"\",\"title\":{\"standoff\":15},\"zerolinecolor\":\"white\",\"automargin\":true,\"zerolinewidth\":2},\"scene\":{\"xaxis\":{\"backgroundcolor\":\"#E5ECF6\",\"gridcolor\":\"white\",\"linecolor\":\"white\",\"showbackground\":true,\"ticks\":\"\",\"zerolinecolor\":\"white\",\"gridwidth\":2},\"yaxis\":{\"backgroundcolor\":\"#E5ECF6\",\"gridcolor\":\"white\",\"linecolor\":\"white\",\"showbackground\":true,\"ticks\":\"\",\"zerolinecolor\":\"white\",\"gridwidth\":2},\"zaxis\":{\"backgroundcolor\":\"#E5ECF6\",\"gridcolor\":\"white\",\"linecolor\":\"white\",\"showbackground\":true,\"ticks\":\"\",\"zerolinecolor\":\"white\",\"gridwidth\":2}},\"shapedefaults\":{\"line\":{\"color\":\"#2a3f5f\"}},\"annotationdefaults\":{\"arrowcolor\":\"#2a3f5f\",\"arrowhead\":0,\"arrowwidth\":1},\"geo\":{\"bgcolor\":\"white\",\"landcolor\":\"#E5ECF6\",\"subunitcolor\":\"white\",\"showland\":true,\"showlakes\":true,\"lakecolor\":\"white\"},\"title\":{\"x\":0.05},\"mapbox\":{\"style\":\"light\"}}},\"xaxis\":{\"anchor\":\"y\",\"domain\":[0.0,1.0],\"title\":{\"text\":\"Payload Mass (kg)\"}},\"yaxis\":{\"anchor\":\"x\",\"domain\":[0.0,1.0],\"title\":{\"text\":\"class\"}},\"legend\":{\"title\":{\"text\":\"Booster Version Category\"},\"tracegroupgap\":0},\"margin\":{\"t\":60}},                        {\"responsive\": true}                    ).then(function(){\n                            \nvar gd = document.getElementById('e118902d-f19c-427a-a051-c449c1addb45');\nvar x = new MutationObserver(function (mutations, observer) {{\n        var display = window.getComputedStyle(gd).display;\n        if (!display || display === 'none') {{\n            console.log([gd, 'removed!']);\n            Plotly.purge(gd);\n            observer.disconnect();\n        }}\n}});\n\n// Listen for the removal of the full notebook cells\nvar notebookContainer = gd.closest('#notebook-container');\nif (notebookContainer) {{\n    x.observe(notebookContainer, {childList: true});\n}}\n\n// Listen for the clearing of the current output cell\nvar outputEl = gd.closest('.output');\nif (outputEl) {{\n    x.observe(outputEl, {childList: true});\n}}\n\n                        })                };                });            </script>        </div>"
     },
     "metadata": {},
     "output_type": "display_data"
    }
   ],
   "source": [
    "fig = px.scatter(filtered, x='Payload Mass (kg)', y='class',\n",
    "                 color='Booster Version Category'\n",
    "                 )\n",
    "fig.update_traces(marker_size=10)\n",
    "fig.show()"
   ],
   "metadata": {
    "collapsed": false,
    "ExecuteTime": {
     "end_time": "2023-08-21T02:59:12.211742100Z",
     "start_time": "2023-08-21T02:59:12.087231300Z"
    }
   },
   "id": "6ce7eb39e1b4cfc3"
  },
  {
   "cell_type": "code",
   "execution_count": 16,
   "outputs": [
    {
     "data": {
      "text/plain": "['CCAFS LC-40', 'VAFB SLC-4E', 'KSC LC-39A', 'CCAFS SLC-40']"
     },
     "execution_count": 16,
     "metadata": {},
     "output_type": "execute_result"
    }
   ],
   "source": [
    "list(spacex_df['Launch Site'].unique())"
   ],
   "metadata": {
    "collapsed": false,
    "ExecuteTime": {
     "end_time": "2023-08-21T02:59:52.143186700Z",
     "start_time": "2023-08-21T02:59:51.991957200Z"
    }
   },
   "id": "90f1d4e229a4ba70"
  },
  {
   "cell_type": "code",
   "execution_count": null,
   "outputs": [],
   "source": [],
   "metadata": {
    "collapsed": false
   },
   "id": "c5f416ab349b5ee6"
  },
  {
   "cell_type": "markdown",
   "source": [
    "## Finding Insights Visually"
   ],
   "metadata": {
    "collapsed": false
   },
   "id": "ba3c2e6619fbb647"
  },
  {
   "cell_type": "markdown",
   "source": [
    "Now with the dashboard completed, you should be able to use it to analyze SpaceX launch data, and answer the following questions:\n",
    "\n",
    "* Which site has the largest successful launches?\n",
    "    * **KSC LC-39A** with **41.2%** of the total successful launches made by SpaceX\n",
    "* Which site has the highest launch success rate?\n",
    "    * **KSC LC-39A** with **76.9%** successful launches versus 23.1% failed ones\n",
    "* Which payload range(s) has the highest launch success rate?\n",
    "    * The range with the highest number of successful launches is between 0 and 10,000 kg, which is 24. The range with the highest success rate is between 3,000 and 4,000 kg, which is 72.73% with a total of 8 successful launches, and just 3 failed.\n",
    "* Which payload range(s) has the lowest launch success rate?\n",
    "    * The ranges with the lowest number of successful launches are (6,000 - 7,000), (6,000 - 8,000), and (6,000 - 9,000) with both having 0 success and 4 failures. They all have 0% success rate.\n",
    "* Which F9 Booster version (v1.0, v1.1, FT, B4, B5, etc.) has the highest launch success rate?"
   ],
   "metadata": {
    "collapsed": false
   },
   "id": "6b81ec0900269973"
  },
  {
   "cell_type": "code",
   "execution_count": 13,
   "outputs": [
    {
     "name": "stdout",
     "output_type": "stream",
     "text": [
      "[0, 1000, 2000, 3000, 4000, 5000, 6000, 7000, 8000, 9000, 10000]\n"
     ]
    }
   ],
   "source": [
    "print(list(range(0, 10000+1, 1000)))"
   ],
   "metadata": {
    "collapsed": false,
    "ExecuteTime": {
     "end_time": "2023-08-21T20:01:02.959803500Z",
     "start_time": "2023-08-21T20:01:02.881445100Z"
    }
   },
   "id": "1341dc204855f709"
  },
  {
   "cell_type": "code",
   "execution_count": 21,
   "outputs": [
    {
     "data": {
      "text/plain": "list"
     },
     "execution_count": 21,
     "metadata": {},
     "output_type": "execute_result"
    }
   ],
   "source": [
    "import itertools\n",
    "\n",
    "payload_mass_ranges = list(range(0, 10000+1, 1000))\n",
    "\n",
    "pairs = list(itertools.combinations(payload_mass_ranges, 2))\n",
    "\n",
    "type(pairs)"
   ],
   "metadata": {
    "collapsed": false,
    "ExecuteTime": {
     "end_time": "2023-08-21T20:08:55.623974400Z",
     "start_time": "2023-08-21T20:08:55.516812Z"
    }
   },
   "id": "683f31414ac1f571"
  },
  {
   "cell_type": "code",
   "execution_count": 33,
   "outputs": [
    {
     "name": "stdout",
     "output_type": "stream",
     "text": [
      "[(0, 1000), (0, 2000), (0, 3000), (0, 4000), (0, 5000), (0, 6000), (0, 7000), (0, 8000), (0, 9000), (0, 10000), (1000, 2000), (1000, 3000), (1000, 4000), (1000, 5000), (1000, 6000), (1000, 7000), (1000, 8000), (1000, 9000), (1000, 10000), (2000, 3000), (2000, 4000), (2000, 5000), (2000, 6000), (2000, 7000), (2000, 8000), (2000, 9000), (2000, 10000), (3000, 4000), (3000, 5000), (3000, 6000), (3000, 7000), (3000, 8000), (3000, 9000), (3000, 10000), (4000, 5000), (4000, 6000), (4000, 7000), (4000, 8000), (4000, 9000), (4000, 10000), (5000, 6000), (5000, 7000), (5000, 8000), (5000, 9000), (5000, 10000), (6000, 7000), (6000, 8000), (6000, 9000), (6000, 10000), (7000, 8000), (7000, 9000), (7000, 10000), (8000, 9000), (8000, 10000), (9000, 10000)]\n"
     ]
    }
   ],
   "source": [
    "print(pairs)"
   ],
   "metadata": {
    "collapsed": false,
    "ExecuteTime": {
     "end_time": "2023-08-21T20:22:04.330452800Z",
     "start_time": "2023-08-21T20:22:04.224571800Z"
    }
   },
   "id": "3b12bb5ec1ad75a1"
  },
  {
   "cell_type": "code",
   "execution_count": 108,
   "outputs": [],
   "source": [
    "mydict = {'Range': [], 'sucess': [], 'failure': []}\n",
    "\n",
    "for i in pairs:\n",
    "    mydict['Range'].append(str(i))\n",
    "    mydict['sucess'].append(0)\n",
    "    mydict['failure'].append(0)\n",
    "    \n",
    "df = pd.DataFrame(mydict)"
   ],
   "metadata": {
    "collapsed": false,
    "ExecuteTime": {
     "end_time": "2023-08-21T22:11:31.430839100Z",
     "start_time": "2023-08-21T22:11:31.359737300Z"
    }
   },
   "id": "de05108f9b790de5"
  },
  {
   "cell_type": "code",
   "execution_count": 105,
   "outputs": [
    {
     "data": {
      "text/plain": "       Range  sucess  failure\n0  (0, 1000)       0        0\n1  (0, 2000)       0        0",
      "text/html": "<div>\n<style scoped>\n    .dataframe tbody tr th:only-of-type {\n        vertical-align: middle;\n    }\n\n    .dataframe tbody tr th {\n        vertical-align: top;\n    }\n\n    .dataframe thead th {\n        text-align: right;\n    }\n</style>\n<table border=\"1\" class=\"dataframe\">\n  <thead>\n    <tr style=\"text-align: right;\">\n      <th></th>\n      <th>Range</th>\n      <th>sucess</th>\n      <th>failure</th>\n    </tr>\n  </thead>\n  <tbody>\n    <tr>\n      <th>0</th>\n      <td>(0, 1000)</td>\n      <td>0</td>\n      <td>0</td>\n    </tr>\n    <tr>\n      <th>1</th>\n      <td>(0, 2000)</td>\n      <td>0</td>\n      <td>0</td>\n    </tr>\n  </tbody>\n</table>\n</div>"
     },
     "execution_count": 105,
     "metadata": {},
     "output_type": "execute_result"
    }
   ],
   "source": [
    "df.head(2)"
   ],
   "metadata": {
    "collapsed": false,
    "ExecuteTime": {
     "end_time": "2023-08-21T22:10:44.419082700Z",
     "start_time": "2023-08-21T22:10:44.400400700Z"
    }
   },
   "id": "12e78049a1c089f3"
  },
  {
   "cell_type": "code",
   "execution_count": 109,
   "outputs": [],
   "source": [
    "for range_pair, j in zip(pairs, range(0, len(pairs)+1)):\n",
    "    for mass, classes, i in zip(spacex_df['Payload Mass (kg)'], spacex_df['class'], range(0, len(spacex_df['class'])+1)):\n",
    "        if (mass >= range_pair[0]) & (mass < range_pair[1]):\n",
    "            if classes == 1:\n",
    "                df.iloc[j, 1] = df.iloc[j, 1] + 1\n",
    "            else:\n",
    "                df.iloc[j, 2] = df.iloc[j, 2] + 1\n",
    "            "
   ],
   "metadata": {
    "collapsed": false,
    "ExecuteTime": {
     "end_time": "2023-08-21T22:11:36.721908400Z",
     "start_time": "2023-08-21T22:11:36.560778300Z"
    }
   },
   "id": "4d83cfca32ccfba8"
  },
  {
   "cell_type": "code",
   "execution_count": 119,
   "outputs": [
    {
     "data": {
      "text/plain": "            Range  sucess  failure  success_rate\n9      (0, 10000)      24       32        0.4286\n18  (1000, 10000)      22       24        0.4783\n26  (2000, 10000)      21       22        0.4884\n5       (0, 6000)      21       26        0.4468\n6       (0, 7000)      21       30        0.4118\n7       (0, 8000)      21       30        0.4118\n8       (0, 9000)      21       30        0.4118\n16   (1000, 8000)      19       22        0.4634\n4       (0, 5000)      19       23        0.4524\n17   (1000, 9000)      19       22        0.4634\n14   (1000, 6000)      19       18        0.5135\n15   (1000, 7000)      19       22        0.4634\n25   (2000, 9000)      18       20        0.4737\n24   (2000, 8000)      18       20        0.4737\n23   (2000, 7000)      18       20        0.4737\n22   (2000, 6000)      18       16        0.5294\n13   (1000, 5000)      17       15        0.5312\n21   (2000, 5000)      16       13        0.5517\n3       (0, 4000)      16       18        0.4706\n33  (3000, 10000)      16       17        0.4848\n12   (1000, 4000)      14       10        0.5833\n30   (3000, 7000)      13       15        0.4643\n29   (3000, 6000)      13       11        0.5417\n31   (3000, 8000)      13       15        0.4643\n32   (3000, 9000)      13       15        0.4643\n20   (2000, 4000)      13        8        0.6190\n28   (3000, 5000)      11        8        0.5789\n27   (3000, 4000)       8        3        0.7273\n2       (0, 3000)       8       15        0.3478\n39  (4000, 10000)       8       14        0.3636\n11   (1000, 3000)       6        7        0.4615\n44  (5000, 10000)       5        9        0.3571\n19   (2000, 3000)       5        5        0.5000\n35   (4000, 6000)       5        8        0.3846\n36   (4000, 7000)       5       12        0.2941\n37   (4000, 8000)       5       12        0.2941\n38   (4000, 9000)       5       12        0.2941\n51  (7000, 10000)       3        2        0.6000\n53  (8000, 10000)       3        2        0.6000\n48  (6000, 10000)       3        6        0.3333\n54  (9000, 10000)       3        2        0.6000\n34   (4000, 5000)       3        5        0.3750\n1       (0, 2000)       3       10        0.2308\n41   (5000, 7000)       2        7        0.2222\n42   (5000, 8000)       2        7        0.2222\n43   (5000, 9000)       2        7        0.2222\n40   (5000, 6000)       2        3        0.4000\n0       (0, 1000)       2        8        0.2000\n10   (1000, 2000)       1        2        0.3333\n45   (6000, 7000)       0        4        0.0000\n46   (6000, 8000)       0        4        0.0000\n47   (6000, 9000)       0        4        0.0000\n49   (7000, 8000)       0        0           NaN\n50   (7000, 9000)       0        0           NaN\n52   (8000, 9000)       0        0           NaN",
      "text/html": "<div>\n<style scoped>\n    .dataframe tbody tr th:only-of-type {\n        vertical-align: middle;\n    }\n\n    .dataframe tbody tr th {\n        vertical-align: top;\n    }\n\n    .dataframe thead th {\n        text-align: right;\n    }\n</style>\n<table border=\"1\" class=\"dataframe\">\n  <thead>\n    <tr style=\"text-align: right;\">\n      <th></th>\n      <th>Range</th>\n      <th>sucess</th>\n      <th>failure</th>\n      <th>success_rate</th>\n    </tr>\n  </thead>\n  <tbody>\n    <tr>\n      <th>9</th>\n      <td>(0, 10000)</td>\n      <td>24</td>\n      <td>32</td>\n      <td>0.4286</td>\n    </tr>\n    <tr>\n      <th>18</th>\n      <td>(1000, 10000)</td>\n      <td>22</td>\n      <td>24</td>\n      <td>0.4783</td>\n    </tr>\n    <tr>\n      <th>26</th>\n      <td>(2000, 10000)</td>\n      <td>21</td>\n      <td>22</td>\n      <td>0.4884</td>\n    </tr>\n    <tr>\n      <th>5</th>\n      <td>(0, 6000)</td>\n      <td>21</td>\n      <td>26</td>\n      <td>0.4468</td>\n    </tr>\n    <tr>\n      <th>6</th>\n      <td>(0, 7000)</td>\n      <td>21</td>\n      <td>30</td>\n      <td>0.4118</td>\n    </tr>\n    <tr>\n      <th>7</th>\n      <td>(0, 8000)</td>\n      <td>21</td>\n      <td>30</td>\n      <td>0.4118</td>\n    </tr>\n    <tr>\n      <th>8</th>\n      <td>(0, 9000)</td>\n      <td>21</td>\n      <td>30</td>\n      <td>0.4118</td>\n    </tr>\n    <tr>\n      <th>16</th>\n      <td>(1000, 8000)</td>\n      <td>19</td>\n      <td>22</td>\n      <td>0.4634</td>\n    </tr>\n    <tr>\n      <th>4</th>\n      <td>(0, 5000)</td>\n      <td>19</td>\n      <td>23</td>\n      <td>0.4524</td>\n    </tr>\n    <tr>\n      <th>17</th>\n      <td>(1000, 9000)</td>\n      <td>19</td>\n      <td>22</td>\n      <td>0.4634</td>\n    </tr>\n    <tr>\n      <th>14</th>\n      <td>(1000, 6000)</td>\n      <td>19</td>\n      <td>18</td>\n      <td>0.5135</td>\n    </tr>\n    <tr>\n      <th>15</th>\n      <td>(1000, 7000)</td>\n      <td>19</td>\n      <td>22</td>\n      <td>0.4634</td>\n    </tr>\n    <tr>\n      <th>25</th>\n      <td>(2000, 9000)</td>\n      <td>18</td>\n      <td>20</td>\n      <td>0.4737</td>\n    </tr>\n    <tr>\n      <th>24</th>\n      <td>(2000, 8000)</td>\n      <td>18</td>\n      <td>20</td>\n      <td>0.4737</td>\n    </tr>\n    <tr>\n      <th>23</th>\n      <td>(2000, 7000)</td>\n      <td>18</td>\n      <td>20</td>\n      <td>0.4737</td>\n    </tr>\n    <tr>\n      <th>22</th>\n      <td>(2000, 6000)</td>\n      <td>18</td>\n      <td>16</td>\n      <td>0.5294</td>\n    </tr>\n    <tr>\n      <th>13</th>\n      <td>(1000, 5000)</td>\n      <td>17</td>\n      <td>15</td>\n      <td>0.5312</td>\n    </tr>\n    <tr>\n      <th>21</th>\n      <td>(2000, 5000)</td>\n      <td>16</td>\n      <td>13</td>\n      <td>0.5517</td>\n    </tr>\n    <tr>\n      <th>3</th>\n      <td>(0, 4000)</td>\n      <td>16</td>\n      <td>18</td>\n      <td>0.4706</td>\n    </tr>\n    <tr>\n      <th>33</th>\n      <td>(3000, 10000)</td>\n      <td>16</td>\n      <td>17</td>\n      <td>0.4848</td>\n    </tr>\n    <tr>\n      <th>12</th>\n      <td>(1000, 4000)</td>\n      <td>14</td>\n      <td>10</td>\n      <td>0.5833</td>\n    </tr>\n    <tr>\n      <th>30</th>\n      <td>(3000, 7000)</td>\n      <td>13</td>\n      <td>15</td>\n      <td>0.4643</td>\n    </tr>\n    <tr>\n      <th>29</th>\n      <td>(3000, 6000)</td>\n      <td>13</td>\n      <td>11</td>\n      <td>0.5417</td>\n    </tr>\n    <tr>\n      <th>31</th>\n      <td>(3000, 8000)</td>\n      <td>13</td>\n      <td>15</td>\n      <td>0.4643</td>\n    </tr>\n    <tr>\n      <th>32</th>\n      <td>(3000, 9000)</td>\n      <td>13</td>\n      <td>15</td>\n      <td>0.4643</td>\n    </tr>\n    <tr>\n      <th>20</th>\n      <td>(2000, 4000)</td>\n      <td>13</td>\n      <td>8</td>\n      <td>0.6190</td>\n    </tr>\n    <tr>\n      <th>28</th>\n      <td>(3000, 5000)</td>\n      <td>11</td>\n      <td>8</td>\n      <td>0.5789</td>\n    </tr>\n    <tr>\n      <th>27</th>\n      <td>(3000, 4000)</td>\n      <td>8</td>\n      <td>3</td>\n      <td>0.7273</td>\n    </tr>\n    <tr>\n      <th>2</th>\n      <td>(0, 3000)</td>\n      <td>8</td>\n      <td>15</td>\n      <td>0.3478</td>\n    </tr>\n    <tr>\n      <th>39</th>\n      <td>(4000, 10000)</td>\n      <td>8</td>\n      <td>14</td>\n      <td>0.3636</td>\n    </tr>\n    <tr>\n      <th>11</th>\n      <td>(1000, 3000)</td>\n      <td>6</td>\n      <td>7</td>\n      <td>0.4615</td>\n    </tr>\n    <tr>\n      <th>44</th>\n      <td>(5000, 10000)</td>\n      <td>5</td>\n      <td>9</td>\n      <td>0.3571</td>\n    </tr>\n    <tr>\n      <th>19</th>\n      <td>(2000, 3000)</td>\n      <td>5</td>\n      <td>5</td>\n      <td>0.5000</td>\n    </tr>\n    <tr>\n      <th>35</th>\n      <td>(4000, 6000)</td>\n      <td>5</td>\n      <td>8</td>\n      <td>0.3846</td>\n    </tr>\n    <tr>\n      <th>36</th>\n      <td>(4000, 7000)</td>\n      <td>5</td>\n      <td>12</td>\n      <td>0.2941</td>\n    </tr>\n    <tr>\n      <th>37</th>\n      <td>(4000, 8000)</td>\n      <td>5</td>\n      <td>12</td>\n      <td>0.2941</td>\n    </tr>\n    <tr>\n      <th>38</th>\n      <td>(4000, 9000)</td>\n      <td>5</td>\n      <td>12</td>\n      <td>0.2941</td>\n    </tr>\n    <tr>\n      <th>51</th>\n      <td>(7000, 10000)</td>\n      <td>3</td>\n      <td>2</td>\n      <td>0.6000</td>\n    </tr>\n    <tr>\n      <th>53</th>\n      <td>(8000, 10000)</td>\n      <td>3</td>\n      <td>2</td>\n      <td>0.6000</td>\n    </tr>\n    <tr>\n      <th>48</th>\n      <td>(6000, 10000)</td>\n      <td>3</td>\n      <td>6</td>\n      <td>0.3333</td>\n    </tr>\n    <tr>\n      <th>54</th>\n      <td>(9000, 10000)</td>\n      <td>3</td>\n      <td>2</td>\n      <td>0.6000</td>\n    </tr>\n    <tr>\n      <th>34</th>\n      <td>(4000, 5000)</td>\n      <td>3</td>\n      <td>5</td>\n      <td>0.3750</td>\n    </tr>\n    <tr>\n      <th>1</th>\n      <td>(0, 2000)</td>\n      <td>3</td>\n      <td>10</td>\n      <td>0.2308</td>\n    </tr>\n    <tr>\n      <th>41</th>\n      <td>(5000, 7000)</td>\n      <td>2</td>\n      <td>7</td>\n      <td>0.2222</td>\n    </tr>\n    <tr>\n      <th>42</th>\n      <td>(5000, 8000)</td>\n      <td>2</td>\n      <td>7</td>\n      <td>0.2222</td>\n    </tr>\n    <tr>\n      <th>43</th>\n      <td>(5000, 9000)</td>\n      <td>2</td>\n      <td>7</td>\n      <td>0.2222</td>\n    </tr>\n    <tr>\n      <th>40</th>\n      <td>(5000, 6000)</td>\n      <td>2</td>\n      <td>3</td>\n      <td>0.4000</td>\n    </tr>\n    <tr>\n      <th>0</th>\n      <td>(0, 1000)</td>\n      <td>2</td>\n      <td>8</td>\n      <td>0.2000</td>\n    </tr>\n    <tr>\n      <th>10</th>\n      <td>(1000, 2000)</td>\n      <td>1</td>\n      <td>2</td>\n      <td>0.3333</td>\n    </tr>\n    <tr>\n      <th>45</th>\n      <td>(6000, 7000)</td>\n      <td>0</td>\n      <td>4</td>\n      <td>0.0000</td>\n    </tr>\n    <tr>\n      <th>46</th>\n      <td>(6000, 8000)</td>\n      <td>0</td>\n      <td>4</td>\n      <td>0.0000</td>\n    </tr>\n    <tr>\n      <th>47</th>\n      <td>(6000, 9000)</td>\n      <td>0</td>\n      <td>4</td>\n      <td>0.0000</td>\n    </tr>\n    <tr>\n      <th>49</th>\n      <td>(7000, 8000)</td>\n      <td>0</td>\n      <td>0</td>\n      <td>NaN</td>\n    </tr>\n    <tr>\n      <th>50</th>\n      <td>(7000, 9000)</td>\n      <td>0</td>\n      <td>0</td>\n      <td>NaN</td>\n    </tr>\n    <tr>\n      <th>52</th>\n      <td>(8000, 9000)</td>\n      <td>0</td>\n      <td>0</td>\n      <td>NaN</td>\n    </tr>\n  </tbody>\n</table>\n</div>"
     },
     "execution_count": 119,
     "metadata": {},
     "output_type": "execute_result"
    }
   ],
   "source": [
    "df.sort_values(by='sucess', ascending=False)"
   ],
   "metadata": {
    "collapsed": false,
    "ExecuteTime": {
     "end_time": "2023-08-22T02:46:51.156603Z",
     "start_time": "2023-08-22T02:46:51.077448200Z"
    }
   },
   "id": "b389a14c6c167170"
  },
  {
   "cell_type": "code",
   "execution_count": 117,
   "outputs": [],
   "source": [
    "df['success_rate'] = round(df['sucess'] / (df['sucess'] + df['failure']), 4)"
   ],
   "metadata": {
    "collapsed": false,
    "ExecuteTime": {
     "end_time": "2023-08-22T02:45:13.718091600Z",
     "start_time": "2023-08-22T02:45:13.596888800Z"
    }
   },
   "id": "d4409c0d10d3758"
  },
  {
   "cell_type": "code",
   "execution_count": 118,
   "outputs": [
    {
     "data": {
      "text/plain": "            Range  sucess  failure  success_rate\n27   (3000, 4000)       8        3        0.7273\n20   (2000, 4000)      13        8        0.6190\n54  (9000, 10000)       3        2        0.6000\n53  (8000, 10000)       3        2        0.6000\n51  (7000, 10000)       3        2        0.6000\n12   (1000, 4000)      14       10        0.5833\n28   (3000, 5000)      11        8        0.5789\n21   (2000, 5000)      16       13        0.5517\n29   (3000, 6000)      13       11        0.5417\n13   (1000, 5000)      17       15        0.5312\n22   (2000, 6000)      18       16        0.5294\n14   (1000, 6000)      19       18        0.5135\n19   (2000, 3000)       5        5        0.5000\n26  (2000, 10000)      21       22        0.4884\n33  (3000, 10000)      16       17        0.4848\n18  (1000, 10000)      22       24        0.4783\n23   (2000, 7000)      18       20        0.4737\n24   (2000, 8000)      18       20        0.4737\n25   (2000, 9000)      18       20        0.4737\n3       (0, 4000)      16       18        0.4706\n30   (3000, 7000)      13       15        0.4643\n32   (3000, 9000)      13       15        0.4643\n31   (3000, 8000)      13       15        0.4643\n16   (1000, 8000)      19       22        0.4634\n17   (1000, 9000)      19       22        0.4634\n15   (1000, 7000)      19       22        0.4634\n11   (1000, 3000)       6        7        0.4615\n4       (0, 5000)      19       23        0.4524\n5       (0, 6000)      21       26        0.4468\n9      (0, 10000)      24       32        0.4286\n6       (0, 7000)      21       30        0.4118\n7       (0, 8000)      21       30        0.4118\n8       (0, 9000)      21       30        0.4118\n40   (5000, 6000)       2        3        0.4000\n35   (4000, 6000)       5        8        0.3846\n34   (4000, 5000)       3        5        0.3750\n39  (4000, 10000)       8       14        0.3636\n44  (5000, 10000)       5        9        0.3571\n2       (0, 3000)       8       15        0.3478\n48  (6000, 10000)       3        6        0.3333\n10   (1000, 2000)       1        2        0.3333\n37   (4000, 8000)       5       12        0.2941\n38   (4000, 9000)       5       12        0.2941\n36   (4000, 7000)       5       12        0.2941\n1       (0, 2000)       3       10        0.2308\n41   (5000, 7000)       2        7        0.2222\n42   (5000, 8000)       2        7        0.2222\n43   (5000, 9000)       2        7        0.2222\n0       (0, 1000)       2        8        0.2000\n45   (6000, 7000)       0        4        0.0000\n46   (6000, 8000)       0        4        0.0000\n47   (6000, 9000)       0        4        0.0000\n49   (7000, 8000)       0        0           NaN\n50   (7000, 9000)       0        0           NaN\n52   (8000, 9000)       0        0           NaN",
      "text/html": "<div>\n<style scoped>\n    .dataframe tbody tr th:only-of-type {\n        vertical-align: middle;\n    }\n\n    .dataframe tbody tr th {\n        vertical-align: top;\n    }\n\n    .dataframe thead th {\n        text-align: right;\n    }\n</style>\n<table border=\"1\" class=\"dataframe\">\n  <thead>\n    <tr style=\"text-align: right;\">\n      <th></th>\n      <th>Range</th>\n      <th>sucess</th>\n      <th>failure</th>\n      <th>success_rate</th>\n    </tr>\n  </thead>\n  <tbody>\n    <tr>\n      <th>27</th>\n      <td>(3000, 4000)</td>\n      <td>8</td>\n      <td>3</td>\n      <td>0.7273</td>\n    </tr>\n    <tr>\n      <th>20</th>\n      <td>(2000, 4000)</td>\n      <td>13</td>\n      <td>8</td>\n      <td>0.6190</td>\n    </tr>\n    <tr>\n      <th>54</th>\n      <td>(9000, 10000)</td>\n      <td>3</td>\n      <td>2</td>\n      <td>0.6000</td>\n    </tr>\n    <tr>\n      <th>53</th>\n      <td>(8000, 10000)</td>\n      <td>3</td>\n      <td>2</td>\n      <td>0.6000</td>\n    </tr>\n    <tr>\n      <th>51</th>\n      <td>(7000, 10000)</td>\n      <td>3</td>\n      <td>2</td>\n      <td>0.6000</td>\n    </tr>\n    <tr>\n      <th>12</th>\n      <td>(1000, 4000)</td>\n      <td>14</td>\n      <td>10</td>\n      <td>0.5833</td>\n    </tr>\n    <tr>\n      <th>28</th>\n      <td>(3000, 5000)</td>\n      <td>11</td>\n      <td>8</td>\n      <td>0.5789</td>\n    </tr>\n    <tr>\n      <th>21</th>\n      <td>(2000, 5000)</td>\n      <td>16</td>\n      <td>13</td>\n      <td>0.5517</td>\n    </tr>\n    <tr>\n      <th>29</th>\n      <td>(3000, 6000)</td>\n      <td>13</td>\n      <td>11</td>\n      <td>0.5417</td>\n    </tr>\n    <tr>\n      <th>13</th>\n      <td>(1000, 5000)</td>\n      <td>17</td>\n      <td>15</td>\n      <td>0.5312</td>\n    </tr>\n    <tr>\n      <th>22</th>\n      <td>(2000, 6000)</td>\n      <td>18</td>\n      <td>16</td>\n      <td>0.5294</td>\n    </tr>\n    <tr>\n      <th>14</th>\n      <td>(1000, 6000)</td>\n      <td>19</td>\n      <td>18</td>\n      <td>0.5135</td>\n    </tr>\n    <tr>\n      <th>19</th>\n      <td>(2000, 3000)</td>\n      <td>5</td>\n      <td>5</td>\n      <td>0.5000</td>\n    </tr>\n    <tr>\n      <th>26</th>\n      <td>(2000, 10000)</td>\n      <td>21</td>\n      <td>22</td>\n      <td>0.4884</td>\n    </tr>\n    <tr>\n      <th>33</th>\n      <td>(3000, 10000)</td>\n      <td>16</td>\n      <td>17</td>\n      <td>0.4848</td>\n    </tr>\n    <tr>\n      <th>18</th>\n      <td>(1000, 10000)</td>\n      <td>22</td>\n      <td>24</td>\n      <td>0.4783</td>\n    </tr>\n    <tr>\n      <th>23</th>\n      <td>(2000, 7000)</td>\n      <td>18</td>\n      <td>20</td>\n      <td>0.4737</td>\n    </tr>\n    <tr>\n      <th>24</th>\n      <td>(2000, 8000)</td>\n      <td>18</td>\n      <td>20</td>\n      <td>0.4737</td>\n    </tr>\n    <tr>\n      <th>25</th>\n      <td>(2000, 9000)</td>\n      <td>18</td>\n      <td>20</td>\n      <td>0.4737</td>\n    </tr>\n    <tr>\n      <th>3</th>\n      <td>(0, 4000)</td>\n      <td>16</td>\n      <td>18</td>\n      <td>0.4706</td>\n    </tr>\n    <tr>\n      <th>30</th>\n      <td>(3000, 7000)</td>\n      <td>13</td>\n      <td>15</td>\n      <td>0.4643</td>\n    </tr>\n    <tr>\n      <th>32</th>\n      <td>(3000, 9000)</td>\n      <td>13</td>\n      <td>15</td>\n      <td>0.4643</td>\n    </tr>\n    <tr>\n      <th>31</th>\n      <td>(3000, 8000)</td>\n      <td>13</td>\n      <td>15</td>\n      <td>0.4643</td>\n    </tr>\n    <tr>\n      <th>16</th>\n      <td>(1000, 8000)</td>\n      <td>19</td>\n      <td>22</td>\n      <td>0.4634</td>\n    </tr>\n    <tr>\n      <th>17</th>\n      <td>(1000, 9000)</td>\n      <td>19</td>\n      <td>22</td>\n      <td>0.4634</td>\n    </tr>\n    <tr>\n      <th>15</th>\n      <td>(1000, 7000)</td>\n      <td>19</td>\n      <td>22</td>\n      <td>0.4634</td>\n    </tr>\n    <tr>\n      <th>11</th>\n      <td>(1000, 3000)</td>\n      <td>6</td>\n      <td>7</td>\n      <td>0.4615</td>\n    </tr>\n    <tr>\n      <th>4</th>\n      <td>(0, 5000)</td>\n      <td>19</td>\n      <td>23</td>\n      <td>0.4524</td>\n    </tr>\n    <tr>\n      <th>5</th>\n      <td>(0, 6000)</td>\n      <td>21</td>\n      <td>26</td>\n      <td>0.4468</td>\n    </tr>\n    <tr>\n      <th>9</th>\n      <td>(0, 10000)</td>\n      <td>24</td>\n      <td>32</td>\n      <td>0.4286</td>\n    </tr>\n    <tr>\n      <th>6</th>\n      <td>(0, 7000)</td>\n      <td>21</td>\n      <td>30</td>\n      <td>0.4118</td>\n    </tr>\n    <tr>\n      <th>7</th>\n      <td>(0, 8000)</td>\n      <td>21</td>\n      <td>30</td>\n      <td>0.4118</td>\n    </tr>\n    <tr>\n      <th>8</th>\n      <td>(0, 9000)</td>\n      <td>21</td>\n      <td>30</td>\n      <td>0.4118</td>\n    </tr>\n    <tr>\n      <th>40</th>\n      <td>(5000, 6000)</td>\n      <td>2</td>\n      <td>3</td>\n      <td>0.4000</td>\n    </tr>\n    <tr>\n      <th>35</th>\n      <td>(4000, 6000)</td>\n      <td>5</td>\n      <td>8</td>\n      <td>0.3846</td>\n    </tr>\n    <tr>\n      <th>34</th>\n      <td>(4000, 5000)</td>\n      <td>3</td>\n      <td>5</td>\n      <td>0.3750</td>\n    </tr>\n    <tr>\n      <th>39</th>\n      <td>(4000, 10000)</td>\n      <td>8</td>\n      <td>14</td>\n      <td>0.3636</td>\n    </tr>\n    <tr>\n      <th>44</th>\n      <td>(5000, 10000)</td>\n      <td>5</td>\n      <td>9</td>\n      <td>0.3571</td>\n    </tr>\n    <tr>\n      <th>2</th>\n      <td>(0, 3000)</td>\n      <td>8</td>\n      <td>15</td>\n      <td>0.3478</td>\n    </tr>\n    <tr>\n      <th>48</th>\n      <td>(6000, 10000)</td>\n      <td>3</td>\n      <td>6</td>\n      <td>0.3333</td>\n    </tr>\n    <tr>\n      <th>10</th>\n      <td>(1000, 2000)</td>\n      <td>1</td>\n      <td>2</td>\n      <td>0.3333</td>\n    </tr>\n    <tr>\n      <th>37</th>\n      <td>(4000, 8000)</td>\n      <td>5</td>\n      <td>12</td>\n      <td>0.2941</td>\n    </tr>\n    <tr>\n      <th>38</th>\n      <td>(4000, 9000)</td>\n      <td>5</td>\n      <td>12</td>\n      <td>0.2941</td>\n    </tr>\n    <tr>\n      <th>36</th>\n      <td>(4000, 7000)</td>\n      <td>5</td>\n      <td>12</td>\n      <td>0.2941</td>\n    </tr>\n    <tr>\n      <th>1</th>\n      <td>(0, 2000)</td>\n      <td>3</td>\n      <td>10</td>\n      <td>0.2308</td>\n    </tr>\n    <tr>\n      <th>41</th>\n      <td>(5000, 7000)</td>\n      <td>2</td>\n      <td>7</td>\n      <td>0.2222</td>\n    </tr>\n    <tr>\n      <th>42</th>\n      <td>(5000, 8000)</td>\n      <td>2</td>\n      <td>7</td>\n      <td>0.2222</td>\n    </tr>\n    <tr>\n      <th>43</th>\n      <td>(5000, 9000)</td>\n      <td>2</td>\n      <td>7</td>\n      <td>0.2222</td>\n    </tr>\n    <tr>\n      <th>0</th>\n      <td>(0, 1000)</td>\n      <td>2</td>\n      <td>8</td>\n      <td>0.2000</td>\n    </tr>\n    <tr>\n      <th>45</th>\n      <td>(6000, 7000)</td>\n      <td>0</td>\n      <td>4</td>\n      <td>0.0000</td>\n    </tr>\n    <tr>\n      <th>46</th>\n      <td>(6000, 8000)</td>\n      <td>0</td>\n      <td>4</td>\n      <td>0.0000</td>\n    </tr>\n    <tr>\n      <th>47</th>\n      <td>(6000, 9000)</td>\n      <td>0</td>\n      <td>4</td>\n      <td>0.0000</td>\n    </tr>\n    <tr>\n      <th>49</th>\n      <td>(7000, 8000)</td>\n      <td>0</td>\n      <td>0</td>\n      <td>NaN</td>\n    </tr>\n    <tr>\n      <th>50</th>\n      <td>(7000, 9000)</td>\n      <td>0</td>\n      <td>0</td>\n      <td>NaN</td>\n    </tr>\n    <tr>\n      <th>52</th>\n      <td>(8000, 9000)</td>\n      <td>0</td>\n      <td>0</td>\n      <td>NaN</td>\n    </tr>\n  </tbody>\n</table>\n</div>"
     },
     "execution_count": 118,
     "metadata": {},
     "output_type": "execute_result"
    }
   ],
   "source": [
    "df.sort_values(by='success_rate', ascending=False)"
   ],
   "metadata": {
    "collapsed": false,
    "ExecuteTime": {
     "end_time": "2023-08-22T02:45:15.377316600Z",
     "start_time": "2023-08-22T02:45:15.356218900Z"
    }
   },
   "id": "42570a0c5fe2700c"
  },
  {
   "cell_type": "markdown",
   "source": [
    "### Which F9 Booster version (v1.0, v1.1, FT, B4, B5, etc.) has the highest launch success rate?"
   ],
   "metadata": {
    "collapsed": false
   },
   "id": "3ad5b5709548573f"
  },
  {
   "cell_type": "code",
   "execution_count": 5,
   "outputs": [
    {
     "data": {
      "text/plain": "   Unnamed: 0  Flight Number  Launch Site  class  Payload Mass (kg)  \\\n0           0              1  CCAFS LC-40      0                0.0   \n1           1              2  CCAFS LC-40      0                0.0   \n\n  Booster Version Booster Version Category  \n0  F9 v1.0  B0003                     v1.0  \n1  F9 v1.0  B0004                     v1.0  ",
      "text/html": "<div>\n<style scoped>\n    .dataframe tbody tr th:only-of-type {\n        vertical-align: middle;\n    }\n\n    .dataframe tbody tr th {\n        vertical-align: top;\n    }\n\n    .dataframe thead th {\n        text-align: right;\n    }\n</style>\n<table border=\"1\" class=\"dataframe\">\n  <thead>\n    <tr style=\"text-align: right;\">\n      <th></th>\n      <th>Unnamed: 0</th>\n      <th>Flight Number</th>\n      <th>Launch Site</th>\n      <th>class</th>\n      <th>Payload Mass (kg)</th>\n      <th>Booster Version</th>\n      <th>Booster Version Category</th>\n    </tr>\n  </thead>\n  <tbody>\n    <tr>\n      <th>0</th>\n      <td>0</td>\n      <td>1</td>\n      <td>CCAFS LC-40</td>\n      <td>0</td>\n      <td>0.0</td>\n      <td>F9 v1.0  B0003</td>\n      <td>v1.0</td>\n    </tr>\n    <tr>\n      <th>1</th>\n      <td>1</td>\n      <td>2</td>\n      <td>CCAFS LC-40</td>\n      <td>0</td>\n      <td>0.0</td>\n      <td>F9 v1.0  B0004</td>\n      <td>v1.0</td>\n    </tr>\n  </tbody>\n</table>\n</div>"
     },
     "execution_count": 5,
     "metadata": {},
     "output_type": "execute_result"
    }
   ],
   "source": [
    "spacex_df.head(2)"
   ],
   "metadata": {
    "collapsed": false,
    "ExecuteTime": {
     "end_time": "2023-08-30T08:27:54.713480Z",
     "start_time": "2023-08-30T08:27:54.704654Z"
    }
   },
   "id": "f0c0a6995441c1fa"
  },
  {
   "cell_type": "code",
   "execution_count": 13,
   "outputs": [
    {
     "data": {
      "text/plain": "   Unnamed: 0  Flight Number  Launch Site  class  Payload Mass (kg)  \\\n0           0              1  CCAFS LC-40      0                0.0   \n1           1              2  CCAFS LC-40      0                0.0   \n2           2              3  CCAFS LC-40      0              525.0   \n3           3              4  CCAFS LC-40      0              500.0   \n4           4              5  CCAFS LC-40      0              677.0   \n\n  Booster Version Booster Version Category class_label  \n0  F9 v1.0  B0003                     v1.0     failure  \n1  F9 v1.0  B0004                     v1.0     failure  \n2  F9 v1.0  B0005                     v1.0     failure  \n3  F9 v1.0  B0006                     v1.0     failure  \n4  F9 v1.0  B0007                     v1.0     failure  ",
      "text/html": "<div>\n<style scoped>\n    .dataframe tbody tr th:only-of-type {\n        vertical-align: middle;\n    }\n\n    .dataframe tbody tr th {\n        vertical-align: top;\n    }\n\n    .dataframe thead th {\n        text-align: right;\n    }\n</style>\n<table border=\"1\" class=\"dataframe\">\n  <thead>\n    <tr style=\"text-align: right;\">\n      <th></th>\n      <th>Unnamed: 0</th>\n      <th>Flight Number</th>\n      <th>Launch Site</th>\n      <th>class</th>\n      <th>Payload Mass (kg)</th>\n      <th>Booster Version</th>\n      <th>Booster Version Category</th>\n      <th>class_label</th>\n    </tr>\n  </thead>\n  <tbody>\n    <tr>\n      <th>0</th>\n      <td>0</td>\n      <td>1</td>\n      <td>CCAFS LC-40</td>\n      <td>0</td>\n      <td>0.0</td>\n      <td>F9 v1.0  B0003</td>\n      <td>v1.0</td>\n      <td>failure</td>\n    </tr>\n    <tr>\n      <th>1</th>\n      <td>1</td>\n      <td>2</td>\n      <td>CCAFS LC-40</td>\n      <td>0</td>\n      <td>0.0</td>\n      <td>F9 v1.0  B0004</td>\n      <td>v1.0</td>\n      <td>failure</td>\n    </tr>\n    <tr>\n      <th>2</th>\n      <td>2</td>\n      <td>3</td>\n      <td>CCAFS LC-40</td>\n      <td>0</td>\n      <td>525.0</td>\n      <td>F9 v1.0  B0005</td>\n      <td>v1.0</td>\n      <td>failure</td>\n    </tr>\n    <tr>\n      <th>3</th>\n      <td>3</td>\n      <td>4</td>\n      <td>CCAFS LC-40</td>\n      <td>0</td>\n      <td>500.0</td>\n      <td>F9 v1.0  B0006</td>\n      <td>v1.0</td>\n      <td>failure</td>\n    </tr>\n    <tr>\n      <th>4</th>\n      <td>4</td>\n      <td>5</td>\n      <td>CCAFS LC-40</td>\n      <td>0</td>\n      <td>677.0</td>\n      <td>F9 v1.0  B0007</td>\n      <td>v1.0</td>\n      <td>failure</td>\n    </tr>\n  </tbody>\n</table>\n</div>"
     },
     "execution_count": 13,
     "metadata": {},
     "output_type": "execute_result"
    }
   ],
   "source": [
    "# Make a column class_label from the class column\n",
    "# 1 replaces by success and 0 by failure\n",
    "spacex_df['class_label'] = spacex_df['class'].replace(1, 'success').replace(0, 'failure')\n",
    "spacex_df.head()"
   ],
   "metadata": {
    "collapsed": false,
    "ExecuteTime": {
     "end_time": "2023-08-30T08:35:54.135068Z",
     "start_time": "2023-08-30T08:35:54.118783Z"
    }
   },
   "id": "c2f9f16814259448"
  },
  {
   "cell_type": "code",
   "execution_count": 16,
   "outputs": [],
   "source": [
    "# Finds the counts for successful and failed launches by Booster Version Category\n",
    "success_failure_by_booster = pd.pivot_table(spacex_df, index='Booster Version Category', columns='class_label', values='class', aggfunc='count').reset_index()\n",
    "# Rename the columns\n",
    "success_failure_by_booster.rename(columns={'failure': 'n_failures', 'success': 'n_successes'}, inplace=True)"
   ],
   "metadata": {
    "collapsed": false,
    "ExecuteTime": {
     "end_time": "2023-08-30T08:46:26.379709Z",
     "start_time": "2023-08-30T08:46:26.369005Z"
    }
   },
   "id": "558999c4f1cc19fc"
  },
  {
   "cell_type": "code",
   "execution_count": 17,
   "outputs": [],
   "source": [
    "# Finds success rate by Booster Version Category\n",
    "success_rate_by_booster = spacex_df.groupby('Booster Version Category')[['class']].mean().reset_index().sort_values('class', ascending=False)\n",
    "# Rename column class to success_rate\n",
    "success_rate_by_booster.rename(columns={'class': 'success_rate'}, inplace=True)"
   ],
   "metadata": {
    "collapsed": false,
    "ExecuteTime": {
     "end_time": "2023-08-30T08:46:27.855967Z",
     "start_time": "2023-08-30T08:46:27.845340Z"
    }
   },
   "id": "3bb7f5c2620223c0"
  },
  {
   "cell_type": "code",
   "execution_count": 18,
   "outputs": [
    {
     "data": {
      "text/plain": "  Booster Version Category  n_failures  n_successes  success_rate\n0                       B4         5.0          6.0      0.545455\n1                       B5         NaN          1.0      1.000000\n2                       FT         8.0         16.0      0.666667\n3                     v1.0         5.0          NaN      0.000000\n4                     v1.1        14.0          1.0      0.066667",
      "text/html": "<div>\n<style scoped>\n    .dataframe tbody tr th:only-of-type {\n        vertical-align: middle;\n    }\n\n    .dataframe tbody tr th {\n        vertical-align: top;\n    }\n\n    .dataframe thead th {\n        text-align: right;\n    }\n</style>\n<table border=\"1\" class=\"dataframe\">\n  <thead>\n    <tr style=\"text-align: right;\">\n      <th></th>\n      <th>Booster Version Category</th>\n      <th>n_failures</th>\n      <th>n_successes</th>\n      <th>success_rate</th>\n    </tr>\n  </thead>\n  <tbody>\n    <tr>\n      <th>0</th>\n      <td>B4</td>\n      <td>5.0</td>\n      <td>6.0</td>\n      <td>0.545455</td>\n    </tr>\n    <tr>\n      <th>1</th>\n      <td>B5</td>\n      <td>NaN</td>\n      <td>1.0</td>\n      <td>1.000000</td>\n    </tr>\n    <tr>\n      <th>2</th>\n      <td>FT</td>\n      <td>8.0</td>\n      <td>16.0</td>\n      <td>0.666667</td>\n    </tr>\n    <tr>\n      <th>3</th>\n      <td>v1.0</td>\n      <td>5.0</td>\n      <td>NaN</td>\n      <td>0.000000</td>\n    </tr>\n    <tr>\n      <th>4</th>\n      <td>v1.1</td>\n      <td>14.0</td>\n      <td>1.0</td>\n      <td>0.066667</td>\n    </tr>\n  </tbody>\n</table>\n</div>"
     },
     "execution_count": 18,
     "metadata": {},
     "output_type": "execute_result"
    }
   ],
   "source": [
    "# Merge the two dataframes\n",
    "booster_success_launch_data = success_failure_by_booster.merge(success_rate_by_booster, on='Booster Version Category')\n",
    "# Preview the data\n",
    "booster_success_launch_data"
   ],
   "metadata": {
    "collapsed": false,
    "ExecuteTime": {
     "end_time": "2023-08-30T08:47:04.602325Z",
     "start_time": "2023-08-30T08:47:04.590604Z"
    }
   },
   "id": "e24ad4840022edf7"
  },
  {
   "cell_type": "code",
   "execution_count": 15,
   "outputs": [],
   "source": [],
   "metadata": {
    "collapsed": false,
    "ExecuteTime": {
     "end_time": "2023-08-30T08:38:47.336734Z",
     "start_time": "2023-08-30T08:38:47.322994Z"
    }
   },
   "id": "d2dd4d0ff4f500c"
  },
  {
   "cell_type": "code",
   "execution_count": null,
   "outputs": [],
   "source": [],
   "metadata": {
    "collapsed": false
   },
   "id": "3c1d2bff508962fe"
  }
 ],
 "metadata": {
  "kernelspec": {
   "display_name": "Python 3",
   "language": "python",
   "name": "python3"
  },
  "language_info": {
   "codemirror_mode": {
    "name": "ipython",
    "version": 2
   },
   "file_extension": ".py",
   "mimetype": "text/x-python",
   "name": "python",
   "nbconvert_exporter": "python",
   "pygments_lexer": "ipython2",
   "version": "2.7.6"
  }
 },
 "nbformat": 4,
 "nbformat_minor": 5
}
